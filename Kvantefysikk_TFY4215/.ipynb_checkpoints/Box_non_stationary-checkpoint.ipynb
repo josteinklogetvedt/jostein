{
 "cells": [
  {
   "cell_type": "code",
   "execution_count": 7,
   "metadata": {},
   "outputs": [
    {
     "data": {
      "image/png": "[encoded data removed]",
      "text/plain": [
       "<Figure size 432x288 with 1 Axes>"
      ]
     },
     "metadata": {
      "needs_background": "light"
     },
     "output_type": "display_data"
    }
   ],
   "source": [
    "# Box with superposition of two stationary states, ground state and one excited state\n",
    "\n",
    "import numpy as np\n",
    "from matplotlib.pyplot import figure,axes,plot,title,xlabel,ylabel,show\n",
    "from matplotlib.animation import FuncAnimation\n",
    "\n",
    "def animate_curve_2d(x_lim,y_lim,x_data,y_data,N,plt_cmd,titl,x_label,y_label,xpos):\n",
    "    fig=figure()\n",
    "    akse=axes(xlim=x_lim,ylim=y_lim)\n",
    "    title(titl)\n",
    "    xlabel(x_label)\n",
    "    ylabel(y_label)\n",
    "    line, =plot([],[],plt_cmd)\n",
    "    pos, =plot([],[],'ro')\n",
    "    def init():\n",
    "        line.set_data([],[])\n",
    "        pos.set_data([],[])\n",
    "        return line,pos\n",
    "    def anim(i,x_data,y_data):\n",
    "        line.set_data(x_data,y_data[i,:])\n",
    "        pos.set_data(xpos[i],0.1)\n",
    "        return line,pos\n",
    "    ani=FuncAnimation(fig,anim,init_func=init,frames=N,fargs=(x_data,y_data),blit=True,interval=10,repeat=False)\n",
    "    show()\n",
    "    return ani\n",
    "\n",
    "# Function to animate superposition of ground state and an excited state (with quantum number n2) of a box.\n",
    "def animate_superposition(n2):\n",
    "    x0=0.0\n",
    "    x1=1.0\n",
    "    NX=1000\n",
    "    x=np.arange(NX+1)*(x1-x0)/NX            # Table with x-values\n",
    "    n1=1                                    # Ground state quantum number\n",
    "    psi1=np.sqrt(2/x1)*np.sin(n1*np.pi*x/x1)# Ground state eigenfunction\n",
    "    psi2=np.sqrt(2/x1)*np.sin(n2*np.pi*x/x1)# Excited state eigenfunction\n",
    "\n",
    "    t0=0\n",
    "    T=2*np.pi\n",
    "    NT=1200\n",
    "    t=np.arange(NT+1)*(T-t0)/NT             # Time table \n",
    "\n",
    "    om1=1\n",
    "    om2=om1*n2**2\n",
    "\n",
    "    Psisq=np.empty((NT+1,NX+1))\n",
    "    expectationvalue=np.zeros(NT+1)\n",
    "\n",
    "    for nt in range(NT+1):\n",
    "        exp1=np.exp(-1j*om1*t[nt])\n",
    "        exp2=np.exp(-1j*om2*t[nt])\n",
    "        Psisq[nt,:]=abs(psi1*exp1+psi2*exp2)**2/2\n",
    "        s=0\n",
    "        for i in range(1,NX):\n",
    "            s+=x[i]*Psisq[nt,i]             # Integration by trapezoidal rule\n",
    "        expectationvalue[nt]=s*(x1-x0)/NX\n",
    "\n",
    "    animation = animate_curve_2d((x0,x1),(0,np.max(Psisq)),x,Psisq,NT,'','Superposition: $\\Psi(x,t)=(\\Psi_{1}(x,t)+\\Psi_{%d}(x,t))/2$. $\\langle x\\\\rangle$ in red'%n2,'$x$','$|\\Psi(x,t)|^2$',expectationvalue)\n",
    "    return animation    \n",
    " \n",
    "if __name__=='__main__':\n",
    "    n2=2        # Choose quantum number for excited state\n",
    "    animation = animate_superposition(n2)\n"
   ]
  },
  {
   "cell_type": "code",
   "execution_count": null,
   "metadata": {},
   "outputs": [],
   "source": []
  }
 ],
 "metadata": {
  "kernelspec": {
   "display_name": "Python 3",
   "language": "python",
   "name": "python3"
  },
  "language_info": {
   "codemirror_mode": {
    "name": "ipython",
    "version": 3
   },
   "file_extension": ".py",
   "mimetype": "text/x-python",
   "name": "python",
   "nbconvert_exporter": "python",
   "pygments_lexer": "ipython3",
   "version": "3.7.3"
  }
 },
 "nbformat": 4,
 "nbformat_minor": 2
}
