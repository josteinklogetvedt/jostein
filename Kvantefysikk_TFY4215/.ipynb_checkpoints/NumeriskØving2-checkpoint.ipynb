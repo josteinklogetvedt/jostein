{
 "cells": [
  {
   "cell_type": "markdown",
   "metadata": {},
   "source": [
    "**Navn på gruppens medlemmer:** Jostein Kløgetvedt og Alexander Ohrt\n",
    "\n",
    "# Numerisk beregning av energier for partikkel i endelig brønnpotensiale\n",
    "\n",
    "For en partikkel i en endelig brønn med bredde $L$ og dybde $V_0$ er\n",
    "$$ V(x) = \\begin{cases} -V_0 & \\text{for}\\,\\, 0 < x < L \\\\ 0 & \\text{ellers} \\end{cases} $$\n",
    "\n",
    "Energiene til partikkelen er\n",
    "$$E = \\frac{2 \\hbar^2 z^2}{m L^2} - V_0,$$\n",
    "der $z$ er (reelle) løsninger av ligningene\n",
    "$$\\tan{(z)} = \\sqrt{\\frac{z_0^2}{z^2} - 1} \\qquad \\text{og} \\qquad \\tan{\\left(z + \\frac{\\pi}{2}\\right)} = \\sqrt{\\frac{z_0^2}{z^2} - 1}$$\n",
    "med $z_0 = \\frac{L}{2 \\hbar} \\sqrt{2 m V_0}.$\n",
    "Energiene kan i dette tilfellet ikke angis ved hjelp av enkle analytiske uttrykk. \n",
    "Vi skal her løse disse ligningene numerisk."
   ]
  },
  {
   "cell_type": "code",
   "execution_count": 1,
   "metadata": {},
   "outputs": [],
   "source": [
    "# uncomment ONE line to choose matplotlib backend\n",
    "# if using Jupyter Notebook, use interactive \"notebook\" backend for best results\n",
    "# if using Jupyter Lab, use interactive \"widget\" backend for best results\n",
    "# if both fail, use static \"inline\" backend\n",
    "#%matplotlib notebook \n",
    "#%matplotlib widget \n",
    "#%matplotlib inline \n",
    "\n",
    "import numpy as np\n",
    "import matplotlib.pyplot as plt"
   ]
  },
  {
   "cell_type": "markdown",
   "metadata": {},
   "source": [
    "**Finn energinivåene til en partikkel i en endelig brønn numerisk. Vi har foreslått en framgangsmåte nedenfor.**\n",
    "1. **Plott funksjonene som involverer $z$ i ligningene over, så du kan se grafisk omtrent hvor løsningene ligger.**\n",
    "2. **Lokalisér intervaller på $z$-aksen som hver inneholder nøyaktig én løsning.**\n",
    "3. **Benytt en numerisk metode til å finne løsningen på hvert av intervallene. Kontrollér at de er korrekte ved å plotte dem sammen med funksjonene.**"
   ]
  },
  {
   "cell_type": "code",
   "execution_count": 51,
   "metadata": {},
   "outputs": [
    {
     "data": {
      "image/png": "[encoded data removed]",
      "text/plain": [
       "<Figure size 432x288 with 1 Axes>"
      ]
     },
     "metadata": {
      "needs_background": "light"
     },
     "output_type": "display_data"
    },
    {
     "data": {
      "image/png": "[encoded data removed]",
      "text/plain": [
       "<Figure size 432x288 with 1 Axes>"
      ]
     },
     "metadata": {
      "needs_background": "light"
     },
     "output_type": "display_data"
    },
    {
     "name": "stdout",
     "output_type": "stream",
     "text": [
      "1.4967417144775395\n",
      "2.9930928230285647\n"
     ]
    }
   ],
   "source": [
    "h_bar = 1.055e-34  #SI-enheter\n",
    "m = 9.11e-31       #elektron\n",
    "\n",
    "L = 1e-10       #10 nm\n",
    "V_0 = 1e-15     #tilpasset styrke\n",
    "\n",
    "z_0 = L*np.sqrt(2*m*V_0)/(2*h_bar)   #ish lik 20\n",
    "\n",
    "x = np.linspace(0.1, z_0/4, 50)\n",
    "\n",
    "def f_1(z):\n",
    "    temp = np.sqrt((z_0/z)**(2)-1)\n",
    "    return np.tan(z) - temp\n",
    "\n",
    "def f_2(z):\n",
    "    temp = np.sqrt((z_0/z)**(2)-1)\n",
    "    return np.tan(z+np.pi/2)-temp\n",
    "\n",
    "def f_3(z):\n",
    "    return np.tan(z)\n",
    "\n",
    "def f_4(z):\n",
    "    return np.tan(z+np.pi/2)\n",
    "\n",
    "def f_5(z):\n",
    "    return np.sqrt((z_0/z)**(2)-1)\n",
    "\n",
    "\n",
    "plt.plot(x, f_3(x))\n",
    "plt.plot(x,f_5(x))\n",
    "plt.title(\"Eq 1\")\n",
    "plt.show()\n",
    "plt.plot(x,f_4(x))\n",
    "plt.plot(x,f_5(x))\n",
    "plt.title(\"Eq 2\")\n",
    "plt.show()\n",
    "\n",
    "#For 1. ligning velger jeg intervallet [1.48, 1.52]\n",
    "#For 2. ligning velger jeg intervallet [2.96-3.02] \n",
    "\n",
    "#Halveringspunktmetoden:\n",
    "def bisectionmethod(f,a,b,tol):\n",
    "    while (b-a)/2 > tol:\n",
    "        z_0 = (a+b)/2\n",
    "        if f(z_0) == 0:\n",
    "            break;\n",
    "        elif f(z_0)*f(a) < 0:\n",
    "            b = z_0\n",
    "        else:\n",
    "            a = z_0\n",
    "    return (a+b)/2\n",
    "\n",
    "print(bisectionmethod(f_1,1.48,1.52,1e-7))\n",
    "print(bisectionmethod(f_2,2.96,3.02,1e-7))\n",
    "\n",
    "#Kontroller at de er korrekte ved å plotte dem sammen med funksjonene:\n"
   ]
  },
  {
   "cell_type": "markdown",
   "metadata": {},
   "source": [
    "# Shooting-metoden\n",
    "\n",
    "I den første numeriske øvingen løste vi den tidsuavhengige Schrödingerligningen numerisk ved å finne egenverdiene og egenvektorene til en matrise.\n",
    "Vi skal her se på en alternativ og mer illustrerende numerisk teknikk for å løse ligningen.\n",
    "Teknikken kan brukes på alle potensialer, men vi begrenser oss her til potensialer som er symmetriske om $x = 0$, noe som gjør den litt enklere i bruk.\n",
    "\n",
    "Vi kommer til å få bruk for noen viktige egenskaper til de stasjonære tilstandene.\n",
    "* Den $n$-te eksiterte tilstanden $\\psi(x)$ i et symmetrisk potensial $V(x) = V(-x)$ er\n",
    "    * **symmetrisk** og **krysser ikke** $x$-aksen i origo for **partalls**-$n$. Altså er $\\psi(-x) = \\psi(x)$ og $\\psi(0) \\neq 0$.\n",
    "    * **antisymmetrisk** og **krysser** $x$-aksen i origo for **oddetalls**-$n$. Altså er $\\psi(-x) = -\\psi(x)$ og $\\psi(0) = 0$.\n",
    "* Den $n$-te eksiterte tilstanden $\\psi(x)$ har $n$ nullpunkter.\n",
    "\n",
    "Schrödingerligningen\n",
    "$$ \\hat{H} \\psi = -\\frac{\\hbar^2}{2 m} \\psi'' + V \\psi = E \\psi $$\n",
    "har, matematisk sett, løsninger for *alle* verdier av $E$.\n",
    "Gitt et par randverdier og en energi $E$, er det i teorien bare å integrere i vei for å finne en passende funksjon $\\psi(x)$.\n",
    "Men i fysikken er vi kun interessert i *fysisk akseptable løsninger* av ligningen som kan beskrive fysiske partikler.\n",
    "Disse skal beskrive en sannsynlighetstetthet $|\\psi|^2$ for posisjonen til en partikkel ved en måling, og må derfor være normerte, dvs. $\\int |\\psi|^2 \\mathrm{d} x$ = 1, noe som krever at $\\psi(x) \\rightarrow 0$ (tilstrekkelig raskt) når $x \\rightarrow \\pm \\infty$.\n",
    "Vi skal her se hvordan nettopp dette kravet legger (store) begrensninger på hva energiene $E$ kan være.\n",
    "\n",
    "For å finne fysisk akseptable verdier for $E$ (og dermed $\\psi)$, kan vi derfor gå fram på følgende måte:\n",
    "1. Gjett en energi $E$.\n",
    "2. Finn to kjente randverdier for $\\psi(x)$.\n",
    "3. Integrér Schrödingerligningen for å finne den passende funksjonen $\\psi(x)$.\n",
    "4. Undersøk om $\\psi(x)$ er en fysisk akseptabel løsning.\n",
    "    1. Hvis $\\psi(x) \\rightarrow 0$ når $x \\rightarrow \\pm \\infty$, kan $\\psi(x)$ normeres til en fysisk akseptabel løsning, og vi har gjettet en riktig verdi for $E$.\n",
    "    2. Hvis ikke $\\psi(x) \\rightarrow 0$ når $x \\rightarrow \\pm \\infty$, er $\\psi(x)$ ikke en fysisk akseptabel løsning, og vi har gjettet en gal verdi for $E$.\n",
    "\n",
    "Kort oppsummert gjetter vi en energi $E$ og \"skyter\" etter en passende funksjon $\\psi(x)$ fra kjente randverdier, før vi undersøker om vi \"treffer\" $\\psi = 0$ i $x = \\pm \\infty$. Metoden kalles derfor gjerne [the shooting method](https://en.wikipedia.org/wiki/Shooting_method) på engelsk.\n",
    "\n",
    "I den første numeriske øvingen tilnærmet vi den tidsuavhengige Schrödingerligningen som\n",
    "$$-\\frac{\\hbar^2}{2 m} \\frac{\\psi_{i+1} - 2 \\psi_i + \\psi_{i-1}}{{\\Delta x}^2} + V_i \\psi_i = E \\psi_i$$\n",
    "Vi lar her $i = 0$ svare til $x = 0$.\n",
    "Så lenge vi kjenner to verdier av $\\psi_i$ ved siden av hverandre, kan vi bruke denne ligningen til å finne verdiene $\\psi_i$ for alle $i$.\n",
    "\n",
    "I et symmetrisk potensial kan vi for oddetalls-$n$ utnytte $\\psi(0) = 0$ til å sette $\\psi_0 = 0$ og $\\psi_1$ til en vilkårlig verdi forskjellig fra $0$, for eksempel $\\psi_1 = 1$.\n",
    "Deretter kan vi benytte den tilnærmede Schrödingerligningen til å finne resten av verdiene $\\psi_i$.\n",
    "Hvis det ser ut til at $\\psi \\rightarrow 0$ for store $|x|$, kan vi normere $\\psi$ for å finne en fysisk akseptabel løsning.\n",
    "Den konkrete verdien vi velger for $\\psi_1$ er uten betydning, da den uansett blir korrigert ved normeringen.\n",
    "\n",
    "For partalls-$n$ utnytter vi tilsvarende $\\psi(0) \\neq 0$ til å sette for eksempel $\\psi_0 = 1$.\n",
    "Vi kan så utnytte symmetrien $\\psi_1 = \\psi_{-1}$ til å finne $\\psi_1$ fra den tilnærmede Schrödingerligningen.\n",
    "Så kan vi igjen integrere ligningen og sjekke om energien svarer til en akseptabel løsning.\n",
    "\n",
    "**Skriv en funksjon som skyter etter en symmetrisk eller antisymmetrisk kandidat for energiegenfunksjonen $\\psi(x)$ med energi $E$ til en partikkel med masse $m$ i et symmetrisk potensial $V(x)$. Den skal returnere integrasjonspunkter $x_i$, funksjonsverdiene $\\psi_i = \\psi(x_i)$ i disse punktene og antall nullpunkter i $\\psi(x)$. Funksjonen skal skyte ut fra origo i begge retninger og må stoppe å skyte etter en endelig avstand eller når det er åpenbart at $\\psi(x)$ divergerer, men den behøver ikke normere $\\psi(x)$.**"
   ]
  },
  {
   "cell_type": "code",
   "execution_count": 220,
   "metadata": {},
   "outputs": [
    {
     "name": "stdout",
     "output_type": "stream",
     "text": [
      "7.9125e-36\n",
      "[0.00000000e+00 1.13875000e-21 4.55500000e-21 1.02487500e-20\n",
      " 1.82200000e-20 2.84687500e-20 4.09950000e-20 5.57987500e-20\n",
      " 7.28800000e-20 9.22387500e-20 1.13875000e-19 1.37788750e-19\n",
      " 1.63980000e-19 1.92448750e-19 2.23195000e-19 2.56218750e-19\n",
      " 2.91520000e-19 3.29098750e-19 3.68955000e-19 4.11088750e-19\n",
      " 4.55500000e-19 5.02188750e-19 5.51155000e-19 6.02398750e-19\n",
      " 6.55920000e-19 7.11718750e-19 7.69795000e-19 8.30148750e-19\n",
      " 8.92780000e-19 9.57688750e-19 1.02487500e-18 1.09433875e-18\n",
      " 1.16608000e-18 1.24009875e-18 1.31639500e-18 1.39496875e-18\n",
      " 1.47582000e-18 1.55894875e-18 1.64435500e-18 1.73203875e-18\n",
      " 1.82200000e-18 1.91423875e-18 2.00875500e-18 2.10554875e-18\n",
      " 2.20462000e-18 2.30596875e-18 2.40959500e-18 2.51549875e-18\n",
      " 2.62368000e-18 2.73413875e-18]\n",
      "[0.00000000e+00 1.00000000e+00 2.00001967e+00 3.00019667e+00\n",
      " 4.00090469e+00 5.00287165e+00 6.00729832e+00 7.01597809e+00\n",
      " 8.03141882e+00 9.05696829e+00 1.00969453e+01 1.11567793e+01\n",
      " 1.22431624e+01 1.33642175e+01 1.45296903e+01 1.57511693e+01\n",
      " 1.70423461e+01 1.84193243e+01 1.99009902e+01 2.15094633e+01\n",
      " 2.32706441e+01 2.52148847e+01 2.73778107e+01 2.98013330e+01\n",
      " 3.25348939e+01 3.56370046e+01 3.91771470e+01 4.32381287e+01\n",
      " 4.79190063e+01 5.33387201e+01 5.96406254e+01 6.69981541e+01\n",
      " 7.56219068e+01 8.57685612e+01 9.77520936e+01 1.11957954e+02\n",
      " 1.28861028e+02 1.49048464e+02 1.73248771e+02 2.02369039e+02\n",
      " 2.37542681e+02 2.80190890e+02 3.32101978e+02 3.95534176e+02\n",
      " 4.73349234e+02 5.69186638e+02 6.87691564e+02 8.34814119e+02\n",
      " 1.01820352e+03 1.24772908e+03]\n"
     ]
    },
    {
     "data": {
      "image/png": "[encoded data removed]",
      "text/plain": [
       "<Figure size 432x288 with 1 Axes>"
      ]
     },
     "metadata": {
      "needs_background": "light"
     },
     "output_type": "display_data"
    }
   ],
   "source": [
    "#L = 3e-10  #1Å\n",
    "#N = 300\n",
    "\n",
    "dx = 1e+6\n",
    "omega = 5e-2  #Må justere denne sammen med dx\n",
    "\n",
    "E = 1.5*h_bar*omega\n",
    "print(E)\n",
    "\n",
    "\n",
    "\n",
    "#x = [i*dx for i in range(0,int(N/2))]  #0 og utover\n",
    "\n",
    "def V_harmonic_osc(x):\n",
    "    return 0.5*m * omega**(2) * x**(2)\n",
    "\n",
    "#n=odd, benytter at psi(x) = -psi(-x) etterpå\n",
    "psi_odd = np.array([0, 1])   #starting value\n",
    "x = np.array([0,dx])\n",
    "\n",
    "count = 2\n",
    "#while psi_odd[-1] < 1000*E:\n",
    "while count <50:\n",
    "    x = np.append(x,dx*count)\n",
    "    temp = m*dx**(2)*(V_harmonic_osc(x[count-1])-E)/h_bar\n",
    "    val = 2*psi_odd[count-1]*(1+temp) - psi_odd[count-2]\n",
    "    psi_odd = np.append(psi_odd,val)\n",
    "    count+=1\n",
    "    #if count >=10:\n",
    "    #    break\n",
    "\n",
    "def normalize(psi):\n",
    "    norm = np.sqrt(np.sum(psi**2))\n",
    "    psi = psi/norm\n",
    "    return psi*14       #magic constant\n",
    "\n",
    "print(V_harmonic_osc(x))  \n",
    "print(psi_odd)\n",
    "psi_norm = normalize(psi_odd)\n",
    "plt.plot(x,psi_norm)\n",
    "plt.show()"
   ]
  },
  {
   "cell_type": "markdown",
   "metadata": {},
   "source": [
    "**Test funksjonen på et elektron i grunntilstanden i en harmonisk oscillator ved å skyte med energier rett over og under $E = 0.50 \\hbar \\omega$, for eksempel $E = 0.49 \\hbar \\omega$ og $E = 0.51 \\hbar \\omega$. Hva skjer?**"
   ]
  },
  {
   "cell_type": "code",
   "execution_count": null,
   "metadata": {},
   "outputs": [],
   "source": []
  },
  {
   "cell_type": "markdown",
   "metadata": {},
   "source": [
    "Vi kan systematisere gjettingen av $E$ på en måte som lar oss søke etter energien og energiegenfunksjonen til en vilkårlig $n$-te eksiterte tilstand.\n",
    "\n",
    "Anta at vi vet med sikkerhet at $E$ ligger mellom $E_1$ og $E_2$ (der $E_2 > E_1$), og la disse energiene svare til funksjonene $\\psi_1$ og $\\psi_2$ med $n_1$ og $n_2$ nullpunkter.\n",
    "Da er $n_1 \\leq n$ og $n_2 > n$.\n",
    "Vi kan så skyte ut en ny funksjon $\\psi_0$ med energien $E_0 = (E_1 + E_2) / 2$ og $n_0$ nullpunkter.\n",
    "Hvis $n_0 \\leq n$, er $E_0$ en bedre nedre skranke for $E$ enn $E_1$.\n",
    "Hvis $n_0 > n$, derimot, er $E_0$ en bedre øvre skranke til $E$ enn $E_2$.\n",
    "Vi kan dermed bytte ut en av skrankene med $E_0$ og gjenta prosessen for å finne et gradvis mindre intervall der energien ligger.\n",
    "Når intervallet er så lite at vi er fornøyd med en hvilken som helst energiverdi på intervallet, stopper vi prosessen.\n",
    "\n",
    "Men hvordan finner vi to skranker $E_1$ og $E_2$ til å begynne med, hvis vi ikke aner hva den virkelige energien er?\n",
    "En enkel måte er å sjekke antall nullpunkter $n_0$ som svarer til en vilkårlig $E_0$, for eksempel $E_0 = 0$.\n",
    "Denne energien må være enten en nedre eller øvre skranke for $E$.\n",
    "Vi kan så finne den andre skranken ved å sette $E_1 = -1$ (eller $E_2 = +1$), og så senke (eller øke) denne energien gradvis til vi finner den andre skranken.\n",
    "Dette kan gjøres veldig raskt hvis vi øker avstanden mellom $E_1$ og $E_2$ eksponensielt.\n",
    "Så kan vi sette i gang med halveringsmetoden for å finne energien.\n",
    "\n",
    "**Finn energien til den 60. eksiterte tilstanden for et elektron i en harmonisk oscillator.**\n",
    "\n",
    "**Du kan gjøre oppgaven på en generell og \"automatisk\" måte som fungerer for en vilkårlig $n$ og et vilkårlig symmetrisk potensial $V(x)$. Kombinér i så fall metoden for å finne to initielle skranker $E_1$ og $E_2$ med halveringsmetoden.**\n",
    "\n",
    "**Du kan også gjøre oppgaven på en \"manuell\", men like illustrerende måte. Du kan i så fall skyte og plotte funksjoner med varierende energi $E$ og justere energiene etter visuell inspeksjon av plottene inntil du vet med god presisjon hva energien må være.**"
   ]
  },
  {
   "cell_type": "code",
   "execution_count": null,
   "metadata": {},
   "outputs": [],
   "source": []
  }
 ],
 "metadata": {
  "kernelspec": {
   "display_name": "Python 3",
   "language": "python",
   "name": "python3"
  },
  "language_info": {
   "codemirror_mode": {
    "name": "ipython",
    "version": 3
   },
   "file_extension": ".py",
   "mimetype": "text/x-python",
   "name": "python",
   "nbconvert_exporter": "python",
   "pygments_lexer": "ipython3",
   "version": "3.7.3"
  }
 },
 "nbformat": 4,
 "nbformat_minor": 4
}
