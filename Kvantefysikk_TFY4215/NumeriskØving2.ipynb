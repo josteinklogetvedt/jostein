{
 "cells": [
  {
   "cell_type": "markdown",
   "metadata": {},
   "source": [
    "**Navn på gruppens medlemmer:** Jostein Kløgetvedt og Alexander Ohrt\n",
    "\n",
    "# Numerisk beregning av energier for partikkel i endelig brønnpotensiale\n",
    "\n",
    "For en partikkel i en endelig brønn med bredde $L$ og dybde $V_0$ er\n",
    "$$ V(x) = \\begin{cases} -V_0 & \\text{for}\\,\\, 0 < x < L \\\\ 0 & \\text{ellers} \\end{cases} $$\n",
    "\n",
    "Energiene til partikkelen er\n",
    "$$E = \\frac{2 \\hbar^2 z^2}{m L^2} - V_0,$$\n",
    "der $z$ er (reelle) løsninger av ligningene\n",
    "$$\\tan{(z)} = \\sqrt{\\frac{z_0^2}{z^2} - 1} \\qquad \\text{og} \\qquad \\tan{\\left(z + \\frac{\\pi}{2}\\right)} = \\sqrt{\\frac{z_0^2}{z^2} - 1}$$\n",
    "med $z_0 = \\frac{L}{2 \\hbar} \\sqrt{2 m V_0}.$\n",
    "Energiene kan i dette tilfellet ikke angis ved hjelp av enkle analytiske uttrykk. \n",
    "Vi skal her løse disse ligningene numerisk."
   ]
  },
  {
   "cell_type": "code",
   "execution_count": 1,
   "metadata": {},
   "outputs": [],
   "source": [
    "# uncomment ONE line to choose matplotlib backend\n",
    "# if using Jupyter Notebook, use interactive \"notebook\" backend for best results\n",
    "# if using Jupyter Lab, use interactive \"widget\" backend for best results\n",
    "# if both fail, use static \"inline\" backend\n",
    "#%matplotlib notebook \n",
    "#%matplotlib widget \n",
    "#%matplotlib inline \n",
    "\n",
    "import numpy as np\n",
    "import matplotlib.pyplot as plt"
   ]
  },
  {
   "cell_type": "markdown",
   "metadata": {},
   "source": [
    "**Finn energinivåene til en partikkel i en endelig brønn numerisk. Vi har foreslått en framgangsmåte nedenfor.**\n",
    "1. **Plott funksjonene som involverer $z$ i ligningene over, så du kan se grafisk omtrent hvor løsningene ligger.**\n",
    "2. **Lokalisér intervaller på $z$-aksen som hver inneholder nøyaktig én løsning.**\n",
    "3. **Benytt en numerisk metode til å finne løsningen på hvert av intervallene. Kontrollér at de er korrekte ved å plotte dem sammen med funksjonene.**"
   ]
  },
  {
   "cell_type": "code",
   "execution_count": 3,
   "metadata": {},
   "outputs": [
    {
     "data": {
      "image/png": "[encoded data removed]",
      "text/plain": [
       "<Figure size 432x288 with 1 Axes>"
      ]
     },
     "metadata": {
      "needs_background": "light"
     },
     "output_type": "display_data"
    },
    {
     "data": {
      "image/png": "[encoded data removed]",
      "text/plain": [
       "<Figure size 432x288 with 1 Axes>"
      ]
     },
     "metadata": {
      "needs_background": "light"
     },
     "output_type": "display_data"
    },
    {
     "name": "stdout",
     "output_type": "stream",
     "text": [
      "1.4967417144775395\n",
      "2.9930928230285647\n"
     ]
    }
   ],
   "source": [
    "h_bar = 1.055e-34  #SI-enheter\n",
    "m = 9.11e-31       #elektron\n",
    "\n",
    "L = 1e-10       #10 nm\n",
    "V_0 = 1e-15     #tilpasset styrke\n",
    "\n",
    "z_0 = L*np.sqrt(2*m*V_0)/(2*h_bar)   #ish lik 20\n",
    "\n",
    "x = np.linspace(0.1, z_0/4, 50)\n",
    "\n",
    "def f_1(z):\n",
    "    temp = np.sqrt((z_0/z)**(2)-1)\n",
    "    return np.tan(z) - temp\n",
    "\n",
    "def f_2(z):\n",
    "    temp = np.sqrt((z_0/z)**(2)-1)\n",
    "    return np.tan(z+np.pi/2)-temp\n",
    "\n",
    "def f_3(z):\n",
    "    return np.tan(z)\n",
    "\n",
    "def f_4(z):\n",
    "    return np.tan(z+np.pi/2)\n",
    "\n",
    "def f_5(z):\n",
    "    return np.sqrt((z_0/z)**(2)-1)\n",
    "\n",
    "\n",
    "plt.plot(x, f_3(x))\n",
    "plt.plot(x,f_5(x))\n",
    "plt.title(\"Eq 1\")\n",
    "plt.show()\n",
    "plt.plot(x,f_4(x))\n",
    "plt.plot(x,f_5(x))\n",
    "plt.title(\"Eq 2\")\n",
    "plt.show()\n",
    "\n",
    "#For 1. ligning velger jeg intervallet [1.48, 1.52]\n",
    "#For 2. ligning velger jeg intervallet [2.96-3.02] \n",
    "\n",
    "#Halveringspunktmetoden:\n",
    "def bisectionmethod(f,a,b,tol):\n",
    "    while (b-a)/2 > tol:\n",
    "        z_0 = (a+b)/2\n",
    "        if f(z_0) == 0:\n",
    "            break;\n",
    "        elif f(z_0)*f(a) < 0:\n",
    "            b = z_0\n",
    "        else:\n",
    "            a = z_0\n",
    "    return (a+b)/2\n",
    "\n",
    "print(bisectionmethod(f_1,1.48,1.52,1e-7))\n",
    "print(bisectionmethod(f_2,2.96,3.02,1e-7))\n",
    "\n",
    "#Kontroller at de er korrekte ved å plotte dem sammen med funksjonene:\n"
   ]
  },
  {
   "cell_type": "markdown",
   "metadata": {},
   "source": [
    "# Shooting-metoden\n",
    "\n",
    "I den første numeriske øvingen løste vi den tidsuavhengige Schrödingerligningen numerisk ved å finne egenverdiene og egenvektorene til en matrise.\n",
    "Vi skal her se på en alternativ og mer illustrerende numerisk teknikk for å løse ligningen.\n",
    "Teknikken kan brukes på alle potensialer, men vi begrenser oss her til potensialer som er symmetriske om $x = 0$, noe som gjør den litt enklere i bruk.\n",
    "\n",
    "Vi kommer til å få bruk for noen viktige egenskaper til de stasjonære tilstandene.\n",
    "* Den $n$-te eksiterte tilstanden $\\psi(x)$ i et symmetrisk potensial $V(x) = V(-x)$ er\n",
    "    * **symmetrisk** og **krysser ikke** $x$-aksen i origo for **partalls**-$n$. Altså er $\\psi(-x) = \\psi(x)$ og $\\psi(0) \\neq 0$.\n",
    "    * **antisymmetrisk** og **krysser** $x$-aksen i origo for **oddetalls**-$n$. Altså er $\\psi(-x) = -\\psi(x)$ og $\\psi(0) = 0$.\n",
    "* Den $n$-te eksiterte tilstanden $\\psi(x)$ har $n$ nullpunkter.\n",
    "\n",
    "Schrödingerligningen\n",
    "$$ \\hat{H} \\psi = -\\frac{\\hbar^2}{2 m} \\psi'' + V \\psi = E \\psi $$\n",
    "har, matematisk sett, løsninger for *alle* verdier av $E$.\n",
    "Gitt et par randverdier og en energi $E$, er det i teorien bare å integrere i vei for å finne en passende funksjon $\\psi(x)$.\n",
    "Men i fysikken er vi kun interessert i *fysisk akseptable løsninger* av ligningen som kan beskrive fysiske partikler.\n",
    "Disse skal beskrive en sannsynlighetstetthet $|\\psi|^2$ for posisjonen til en partikkel ved en måling, og må derfor være normerte, dvs. $\\int |\\psi|^2 \\mathrm{d} x$ = 1, noe som krever at $\\psi(x) \\rightarrow 0$ (tilstrekkelig raskt) når $x \\rightarrow \\pm \\infty$.\n",
    "Vi skal her se hvordan nettopp dette kravet legger (store) begrensninger på hva energiene $E$ kan være.\n",
    "\n",
    "For å finne fysisk akseptable verdier for $E$ (og dermed $\\psi)$, kan vi derfor gå fram på følgende måte:\n",
    "1. Gjett en energi $E$.\n",
    "2. Finn to kjente randverdier for $\\psi(x)$.\n",
    "3. Integrér Schrödingerligningen for å finne den passende funksjonen $\\psi(x)$.\n",
    "4. Undersøk om $\\psi(x)$ er en fysisk akseptabel løsning.\n",
    "    1. Hvis $\\psi(x) \\rightarrow 0$ når $x \\rightarrow \\pm \\infty$, kan $\\psi(x)$ normeres til en fysisk akseptabel løsning, og vi har gjettet en riktig verdi for $E$.\n",
    "    2. Hvis ikke $\\psi(x) \\rightarrow 0$ når $x \\rightarrow \\pm \\infty$, er $\\psi(x)$ ikke en fysisk akseptabel løsning, og vi har gjettet en gal verdi for $E$.\n",
    "\n",
    "Kort oppsummert gjetter vi en energi $E$ og \"skyter\" etter en passende funksjon $\\psi(x)$ fra kjente randverdier, før vi undersøker om vi \"treffer\" $\\psi = 0$ i $x = \\pm \\infty$. Metoden kalles derfor gjerne [the shooting method](https://en.wikipedia.org/wiki/Shooting_method) på engelsk.\n",
    "\n",
    "I den første numeriske øvingen tilnærmet vi den tidsuavhengige Schrödingerligningen som\n",
    "$$-\\frac{\\hbar^2}{2 m} \\frac{\\psi_{i+1} - 2 \\psi_i + \\psi_{i-1}}{{\\Delta x}^2} + V_i \\psi_i = E \\psi_i$$\n",
    "Vi lar her $i = 0$ svare til $x = 0$.\n",
    "Så lenge vi kjenner to verdier av $\\psi_i$ ved siden av hverandre, kan vi bruke denne ligningen til å finne verdiene $\\psi_i$ for alle $i$.\n",
    "\n",
    "I et symmetrisk potensial kan vi for oddetalls-$n$ utnytte $\\psi(0) = 0$ til å sette $\\psi_0 = 0$ og $\\psi_1$ til en vilkårlig verdi forskjellig fra $0$, for eksempel $\\psi_1 = 1$.\n",
    "Deretter kan vi benytte den tilnærmede Schrödingerligningen til å finne resten av verdiene $\\psi_i$.\n",
    "Hvis det ser ut til at $\\psi \\rightarrow 0$ for store $|x|$, kan vi normere $\\psi$ for å finne en fysisk akseptabel løsning.\n",
    "Den konkrete verdien vi velger for $\\psi_1$ er uten betydning, da den uansett blir korrigert ved normeringen.\n",
    "\n",
    "For partalls-$n$ utnytter vi tilsvarende $\\psi(0) \\neq 0$ til å sette for eksempel $\\psi_0 = 1$.\n",
    "Vi kan så utnytte symmetrien $\\psi_1 = \\psi_{-1}$ til å finne $\\psi_1$ fra den tilnærmede Schrödingerligningen.\n",
    "Så kan vi igjen integrere ligningen og sjekke om energien svarer til en akseptabel løsning.\n",
    "\n",
    "**Skriv en funksjon som skyter etter en symmetrisk eller antisymmetrisk kandidat for energiegenfunksjonen $\\psi(x)$ med energi $E$ til en partikkel med masse $m$ i et symmetrisk potensial $V(x)$. Den skal returnere integrasjonspunkter $x_i$, funksjonsverdiene $\\psi_i = \\psi(x_i)$ i disse punktene og antall nullpunkter i $\\psi(x)$. Funksjonen skal skyte ut fra origo i begge retninger og må stoppe å skyte etter en endelig avstand eller når det er åpenbart at $\\psi(x)$ divergerer, men den behøver ikke normere $\\psi(x)$.**"
   ]
  },
  {
   "cell_type": "code",
   "execution_count": 2,
   "metadata": {},
   "outputs": [
    {
     "name": "stdout",
     "output_type": "stream",
     "text": [
      "[-1.9900497512437811, -1.980099502487562, -1.9701492537313432, -1.9601990049751243, -1.9502487562189055, -1.9402985074626866, -1.9303482587064675, -1.9203980099502487, -1.9104477611940298, -1.900497512437811, -1.890547263681592, -1.880597014925373, -1.8706467661691542, -1.8606965174129353, -1.8507462686567164, -1.8407960199004976, -1.8308457711442785, -1.8208955223880596, -1.8109452736318408, -1.800995024875622, -1.791044776119403, -1.781094527363184, -1.771144278606965, -1.7611940298507462, -1.7512437810945274, -1.7412935323383085, -1.7313432835820894, -1.7213930348258706, -1.7114427860696517, -1.7014925373134329, -1.691542288557214, -1.681592039800995, -1.671641791044776, -1.6616915422885572, -1.6517412935323383, -1.6417910447761195, -1.6318407960199004, -1.6218905472636815, -1.6119402985074627, -1.6019900497512438, -1.5920398009950247, -1.5820895522388059, -1.572139303482587, -1.5621890547263682, -1.5522388059701493, -1.5422885572139302, -1.5323383084577114, -1.5223880597014925, -1.5124378109452736, -1.5024875621890548, -1.4925373134328357, -1.4825870646766168, -1.472636815920398, -1.462686567164179, -1.4527363184079602, -1.4427860696517412, -1.4328358208955223, -1.4228855721393034, -1.4129353233830846, -1.4029850746268657, -1.3930348258706466, -1.3830845771144278, -1.373134328358209, -1.36318407960199, -1.3532338308457712, -1.3432835820895521, -1.3333333333333333, -1.3233830845771144, -1.3134328358208955, -1.3034825870646767, -1.2935323383084576, -1.2835820895522387, -1.2736318407960199, -1.263681592039801, -1.2537313432835822, -1.243781094527363, -1.2338308457711442, -1.2238805970149254, -1.2139303482587065, -1.2039800995024876, -1.1940298507462686, -1.1840796019900497, -1.1741293532338308, -1.164179104477612, -1.154228855721393, -1.144278606965174, -1.1343283582089552, -1.1243781094527363, -1.1144278606965174, -1.1044776119402986, -1.0945273631840795, -1.0845771144278606, -1.0746268656716418, -1.064676616915423, -1.054726368159204, -1.044776119402985, -1.0348258706467661, -1.0248756218905473, -1.0149253731343284, -1.0049751243781095, -0.9950248756218906, -0.9850746268656716, -0.9751243781094527, -0.9651741293532338, -0.9552238805970149, -0.945273631840796, -0.9353233830845771, -0.9253731343283582, -0.9154228855721392, -0.9054726368159204, -0.8955223880597015, -0.8855721393034826, -0.8756218905472637, -0.8656716417910447, -0.8557213930348259, -0.845771144278607, -0.835820895522388, -0.8258706467661692, -0.8159203980099502, -0.8059701492537313, -0.7960199004975124, -0.7860696517412935, -0.7761194029850746, -0.7661691542288557, -0.7562189054726368, -0.7462686567164178, -0.736318407960199, -0.7263681592039801, -0.7164179104477612, -0.7064676616915423, -0.6965174129353233, -0.6865671641791045, -0.6766169154228856, -0.6666666666666666, -0.6567164179104478, -0.6467661691542288, -0.6368159203980099, -0.6268656716417911, -0.6169154228855721, -0.6069651741293532, -0.5970149253731343, -0.5870646766169154, -0.5771144278606966, -0.5671641791044776, -0.5572139303482587, -0.5472636815920398, -0.5373134328358209, -0.527363184079602, -0.5174129353233831, -0.5074626865671642, -0.4975124378109453, -0.48756218905472637, -0.47761194029850745, -0.46766169154228854, -0.4577114427860696, -0.44776119402985076, -0.43781094527363185, -0.42786069651741293, -0.417910447761194, -0.4079601990049751, -0.3980099502487562, -0.3880597014925373, -0.3781094527363184, -0.3681592039800995, -0.3582089552238806, -0.34825870646766166, -0.3383084577114428, -0.3283582089552239, -0.31840796019900497, -0.30845771144278605, -0.29850746268656714, -0.2885572139303483, -0.27860696517412936, -0.26865671641791045, -0.25870646766169153, -0.24875621890547264, -0.23880597014925373, -0.2288557213930348, -0.21890547263681592, -0.208955223880597, -0.1990049751243781, -0.1890547263681592, -0.1791044776119403, -0.1691542288557214, -0.15920398009950248, -0.14925373134328357, -0.13930348258706468, -0.12935323383084577, -0.11940298507462686, -0.10945273631840796, -0.09950248756218905, -0.08955223880597014, -0.07960199004975124, -0.06965174129353234, -0.05970149253731343, -0.04975124378109452, -0.03980099502487562, -0.029850746268656716, -0.01990049751243781, -0.009950248756218905, 0.0, 0.009950248756218905, 0.01990049751243781, 0.029850746268656716, 0.03980099502487562, 0.04975124378109452, 0.05970149253731343, 0.06965174129353234, 0.07960199004975124, 0.08955223880597014, 0.09950248756218905, 0.10945273631840796, 0.11940298507462686, 0.12935323383084577, 0.13930348258706468, 0.14925373134328357, 0.15920398009950248, 0.1691542288557214, 0.1791044776119403, 0.1890547263681592, 0.1990049751243781, 0.208955223880597, 0.21890547263681592, 0.2288557213930348, 0.23880597014925373, 0.24875621890547264, 0.25870646766169153, 0.26865671641791045, 0.27860696517412936, 0.2885572139303483, 0.29850746268656714, 0.30845771144278605, 0.31840796019900497, 0.3283582089552239, 0.3383084577114428, 0.34825870646766166, 0.3582089552238806, 0.3681592039800995, 0.3781094527363184, 0.3880597014925373, 0.3980099502487562, 0.4079601990049751, 0.417910447761194, 0.42786069651741293, 0.43781094527363185, 0.44776119402985076, 0.4577114427860696, 0.46766169154228854, 0.47761194029850745, 0.48756218905472637, 0.4975124378109453, 0.5074626865671642, 0.5174129353233831, 0.527363184079602, 0.5373134328358209, 0.5472636815920398, 0.5572139303482587, 0.5671641791044776, 0.5771144278606966, 0.5870646766169154, 0.5970149253731343, 0.6069651741293532, 0.6169154228855721, 0.6268656716417911, 0.6368159203980099, 0.6467661691542288, 0.6567164179104478, 0.6666666666666666, 0.6766169154228856, 0.6865671641791045, 0.6965174129353233, 0.7064676616915423, 0.7164179104477612, 0.7263681592039801, 0.736318407960199, 0.7462686567164178, 0.7562189054726368, 0.7661691542288557, 0.7761194029850746, 0.7860696517412935, 0.7960199004975124, 0.8059701492537313, 0.8159203980099502, 0.8258706467661692, 0.835820895522388, 0.845771144278607, 0.8557213930348259, 0.8656716417910447, 0.8756218905472637, 0.8855721393034826, 0.8955223880597015, 0.9054726368159204, 0.9154228855721392, 0.9253731343283582, 0.9353233830845771, 0.945273631840796, 0.9552238805970149, 0.9651741293532338, 0.9751243781094527, 0.9850746268656716, 0.9950248756218906, 1.0049751243781095, 1.0149253731343284, 1.0248756218905473, 1.0348258706467661, 1.044776119402985, 1.054726368159204, 1.064676616915423, 1.0746268656716418, 1.0845771144278606, 1.0945273631840795, 1.1044776119402986, 1.1144278606965174, 1.1243781094527363, 1.1343283582089552, 1.144278606965174, 1.154228855721393, 1.164179104477612, 1.1741293532338308, 1.1840796019900497, 1.1940298507462686, 1.2039800995024876, 1.2139303482587065, 1.2238805970149254, 1.2338308457711442, 1.243781094527363, 1.2537313432835822, 1.263681592039801, 1.2736318407960199, 1.2835820895522387, 1.2935323383084576, 1.3034825870646767, 1.3134328358208955, 1.3233830845771144, 1.3333333333333333, 1.3432835820895521, 1.3532338308457712, 1.36318407960199, 1.373134328358209, 1.3830845771144278, 1.3930348258706466, 1.4029850746268657, 1.4129353233830846, 1.4228855721393034, 1.4328358208955223, 1.4427860696517412, 1.4527363184079602, 1.462686567164179, 1.472636815920398, 1.4825870646766168, 1.4925373134328357, 1.5024875621890548, 1.5124378109452736, 1.5223880597014925, 1.5323383084577114, 1.5422885572139302, 1.5522388059701493, 1.5621890547263682, 1.572139303482587, 1.5820895522388059, 1.5920398009950247, 1.6019900497512438, 1.6119402985074627, 1.6218905472636815, 1.6318407960199004, 1.6417910447761195, 1.6517412935323383, 1.6616915422885572, 1.671641791044776, 1.681592039800995, 1.691542288557214, 1.7014925373134329, 1.7114427860696517, 1.7213930348258706, 1.7313432835820894, 1.7412935323383085, 1.7512437810945274, 1.7611940298507462, 1.771144278606965, 1.781094527363184, 1.791044776119403, 1.800995024875622, 1.8109452736318408, 1.8208955223880596, 1.8308457711442785, 1.8407960199004976, 1.8507462686567164, 1.8606965174129353, 1.8706467661691542, 1.880597014925373, 1.890547263681592, 1.900497512437811, 1.9104477611940298, 1.9203980099502487, 1.9303482587064675, 1.9402985074626866, 1.9502487562189055, 1.9601990049751243, 1.9701492537313432, 1.980099502487562]\n"
     ]
    },
    {
     "ename": "NameError",
     "evalue": "name 'np' is not defined",
     "output_type": "error",
     "traceback": [
      "\u001b[1;31m---------------------------------------------------------------------------\u001b[0m",
      "\u001b[1;31mNameError\u001b[0m                                 Traceback (most recent call last)",
      "\u001b[1;32m<ipython-input-2-2e3b18c55208>\u001b[0m in \u001b[0;36m<module>\u001b[1;34m\u001b[0m\n\u001b[0;32m     35\u001b[0m \u001b[0mpsi\u001b[0m\u001b[1;33m,\u001b[0m \u001b[0mx\u001b[0m \u001b[1;33m=\u001b[0m \u001b[0mguessE\u001b[0m\u001b[1;33m(\u001b[0m\u001b[0mE\u001b[0m\u001b[1;33m,\u001b[0m\u001b[1;36m2\u001b[0m\u001b[1;33m)\u001b[0m\u001b[1;33m\u001b[0m\u001b[1;33m\u001b[0m\u001b[0m\n\u001b[0;32m     36\u001b[0m \u001b[1;33m\u001b[0m\u001b[0m\n\u001b[1;32m---> 37\u001b[1;33m \u001b[0mx\u001b[0m \u001b[1;33m=\u001b[0m \u001b[0mnp\u001b[0m\u001b[1;33m.\u001b[0m\u001b[0marray\u001b[0m\u001b[1;33m(\u001b[0m\u001b[0mx\u001b[0m\u001b[1;33m)\u001b[0m\u001b[1;33m\u001b[0m\u001b[1;33m\u001b[0m\u001b[0m\n\u001b[0m\u001b[0;32m     38\u001b[0m \u001b[1;33m\u001b[0m\u001b[0m\n\u001b[0;32m     39\u001b[0m \u001b[1;31m#plt.plot(x,V(x))\u001b[0m\u001b[1;33m\u001b[0m\u001b[1;33m\u001b[0m\u001b[1;33m\u001b[0m\u001b[0m\n",
      "\u001b[1;31mNameError\u001b[0m: name 'np' is not defined"
     ]
    }
   ],
   "source": [
    "m = 1\n",
    "omega = 1\n",
    "h_bar = 1\n",
    "\n",
    "#E = 0.04     #Er på samme verdi som potensialet for disse x-verdiene\n",
    "E = (2+0.5)*h_bar*omega\n",
    "dx = 0.1\n",
    "\n",
    "def V(x):\n",
    "    return 0.5*m * omega**(2) * x**(2)\n",
    "\n",
    "def guessE(E,n):\n",
    "    if n%2 ==0:\n",
    "        x = [0]\n",
    "        psi = [1]   #initial\n",
    "        for i in range(1,51):\n",
    "            psi_ip = psi[i-1]*((dx**(2)*m*(V(x[i-1])-E))*h_bar**(-2)+1)\n",
    "            x.append(i*dx)\n",
    "            psi.append(psi_ip)\n",
    "        psi = psi[:0:-1] + psi   #psi(x) = psi(-x)\n",
    "    else:\n",
    "        x = [0,dx]\n",
    "        psi = [0,1]   #inintial\n",
    "        for i in range(1,50):\n",
    "            psi_ip = 2*psi[i]*(1+m*dx**(2)*(V(x[i])-E)*h_bar**(-2)) - psi[i-2]      \n",
    "            x.append(x[i]+dx)\n",
    "            psi.append(psi_ip)\n",
    "        psi = [-psi[i] for i in range(len(psi)-1,0,-1)] + psi   #psi(x) = -psi(-x)\n",
    "    x = [-x[i] for i in range(len(x)-1,0,-1)] + x\n",
    "    return psi,x\n",
    "psi, x = guessE(E,2)\n",
    "\n",
    "x = np.array(x)\n",
    "\n",
    "#plt.plot(x,V(x))\n",
    "plt.plot(x,psi)\n",
    "plt.show()\n",
    "\n",
    "#def normalize(psi):\n",
    "#    norm = np.sqrt(np.sum(psi**2))\n",
    "#    psi = psi/norm\n",
    "#    return psi*14       #magic constant"
   ]
  },
  {
   "cell_type": "markdown",
   "metadata": {},
   "source": [
    "**Test funksjonen på et elektron i grunntilstanden i en harmonisk oscillator ved å skyte med energier rett over og under $E = 0.50 \\hbar \\omega$, for eksempel $E = 0.49 \\hbar \\omega$ og $E = 0.51 \\hbar \\omega$. Hva skjer?**"
   ]
  },
  {
   "cell_type": "code",
   "execution_count": null,
   "metadata": {},
   "outputs": [],
   "source": []
  },
  {
   "cell_type": "markdown",
   "metadata": {},
   "source": [
    "Vi kan systematisere gjettingen av $E$ på en måte som lar oss søke etter energien og energiegenfunksjonen til en vilkårlig $n$-te eksiterte tilstand.\n",
    "\n",
    "Anta at vi vet med sikkerhet at $E$ ligger mellom $E_1$ og $E_2$ (der $E_2 > E_1$), og la disse energiene svare til funksjonene $\\psi_1$ og $\\psi_2$ med $n_1$ og $n_2$ nullpunkter.\n",
    "Da er $n_1 \\leq n$ og $n_2 > n$.\n",
    "Vi kan så skyte ut en ny funksjon $\\psi_0$ med energien $E_0 = (E_1 + E_2) / 2$ og $n_0$ nullpunkter.\n",
    "Hvis $n_0 \\leq n$, er $E_0$ en bedre nedre skranke for $E$ enn $E_1$.\n",
    "Hvis $n_0 > n$, derimot, er $E_0$ en bedre øvre skranke til $E$ enn $E_2$.\n",
    "Vi kan dermed bytte ut en av skrankene med $E_0$ og gjenta prosessen for å finne et gradvis mindre intervall der energien ligger.\n",
    "Når intervallet er så lite at vi er fornøyd med en hvilken som helst energiverdi på intervallet, stopper vi prosessen.\n",
    "\n",
    "Men hvordan finner vi to skranker $E_1$ og $E_2$ til å begynne med, hvis vi ikke aner hva den virkelige energien er?\n",
    "En enkel måte er å sjekke antall nullpunkter $n_0$ som svarer til en vilkårlig $E_0$, for eksempel $E_0 = 0$.\n",
    "Denne energien må være enten en nedre eller øvre skranke for $E$.\n",
    "Vi kan så finne den andre skranken ved å sette $E_1 = -1$ (eller $E_2 = +1$), og så senke (eller øke) denne energien gradvis til vi finner den andre skranken.\n",
    "Dette kan gjøres veldig raskt hvis vi øker avstanden mellom $E_1$ og $E_2$ eksponensielt.\n",
    "Så kan vi sette i gang med halveringsmetoden for å finne energien.\n",
    "\n",
    "**Finn energien til den 60. eksiterte tilstanden for et elektron i en harmonisk oscillator.**\n",
    "\n",
    "**Du kan gjøre oppgaven på en generell og \"automatisk\" måte som fungerer for en vilkårlig $n$ og et vilkårlig symmetrisk potensial $V(x)$. Kombinér i så fall metoden for å finne to initielle skranker $E_1$ og $E_2$ med halveringsmetoden.**\n",
    "\n",
    "**Du kan også gjøre oppgaven på en \"manuell\", men like illustrerende måte. Du kan i så fall skyte og plotte funksjoner med varierende energi $E$ og justere energiene etter visuell inspeksjon av plottene inntil du vet med god presisjon hva energien må være.**"
   ]
  },
  {
   "cell_type": "code",
   "execution_count": null,
   "metadata": {},
   "outputs": [],
   "source": []
  }
 ],
 "metadata": {
  "kernelspec": {
   "display_name": "Python 3",
   "language": "python",
   "name": "python3"
  },
  "language_info": {
   "codemirror_mode": {
    "name": "ipython",
    "version": 3
   },
   "file_extension": ".py",
   "mimetype": "text/x-python",
   "name": "python",
   "nbconvert_exporter": "python",
   "pygments_lexer": "ipython3",
   "version": "3.7.3"
  }
 },
 "nbformat": 4,
 "nbformat_minor": 4
}
