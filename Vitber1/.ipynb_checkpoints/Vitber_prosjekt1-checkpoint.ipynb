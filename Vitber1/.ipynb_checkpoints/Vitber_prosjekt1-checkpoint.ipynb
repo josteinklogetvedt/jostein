{
 "cells": [
  {
   "cell_type": "markdown",
   "metadata": {
    "colab_type": "text",
    "id": "EFrmTN4TEya5"
   },
   "source": [
    "# Exercise 3.1: \n",
    "Is it enough to insert the given solution into the equation? If not the soulution can be found by applying a Fourier transform to the diffusion equation (4K).\n",
    "Possible physical interpretaion of h(y): This represents the initial distribution of the substance, as is obvious if the solution is shown using the Fourier transform. \n",
    "\n",
    "To show that \n",
    "\n",
    "$\\phi(x,t) = \\frac{1}{\\sqrt{4\\pi Dt}} \\int^{+\\infty}_{-\\infty}dy\\,h(y)e^{-\\frac{(x-y)^2}{4Dt}}$\n",
    "\n",
    "is a solution of\n",
    "\n",
    "$\\frac{\\partial \\phi(x, t)}{\\partial t} = D\\frac{\\partial^2\\phi(x,t)}{\\partial^2x}$,\n",
    "\n",
    "we first calculate\n",
    "\n",
    "$\\frac{\\partial \\phi(x, t)}{\\partial t} = -\\frac{1}{2} \\frac{1}{\\sqrt{4\\pi Dt}} \\frac{1}{t} \\int^{+\\infty}_{-\\infty}dy\\,h(y)e^{-\\frac{(x-y)^2}{4Dt}} + \\frac{1}{\\sqrt{4\\pi Dt}} \\frac{1}{t^2}\\int^{+\\infty}_{-\\infty}dy\\,h(y) \\, \\frac{(x-y)^2}{4D}e^{-\\frac{(x-y)^2}{4Dt}} = \\frac{1}{\\sqrt{4\\pi Dt}}(\\frac{1}{t^{2}} \\int^{+\\infty}_{-\\infty}dy\\,h(y)\\,\\frac{(x-y)^2}{4D}e^{-\\frac{(x-y)^2}{4Dt}} - \\frac{1}{2t} \\int^{+\\infty}_{-\\infty}dy\\,h(y)e^{-\\frac{(x-y)^2}{4Dt}})$.\n",
    "\n",
    "Then we find\n",
    "\n",
    "$\\frac{\\partial\\phi(x,t)}{\\partial x} = \\frac{1}{\\sqrt{4\\pi Dt}} (-\\frac{1}{4Dt}) \\int^{+\\infty}_{-\\infty}dy\\,h(y)\\,(2x-2y)e^{-\\frac{(x-y)^2}{4Dt}}$\n",
    "\n",
    "$\\implies \\frac{\\partial^2 \\phi(x,t)}{\\partial^2 x} = \\frac{1}{\\sqrt{4\\pi Dt}}\\frac{1}{4Dt}(-\\int^{+\\infty}_{-\\infty}dy\\,h(y)\\,2e^{-\\frac{(x-y)^2}{4Dt}} + \\int^{+\\infty}_{-\\infty}dy\\,h(y)\\,\\frac{(2x-2y)^2}{4Dt}e^{-\\frac{(x-y)^2}{4Dt}}) = \\frac{1}{D\\sqrt{4\\pi Dt}}(\\frac{1}{t^{2}} \\int^{+\\infty}_{-\\infty}dy\\,h(y)\\,\\frac{(x-y)^2}{4D}e^{-\\frac{(x-y)^2}{4Dt}} - \\frac{1}{2t} \\int^{+\\infty}_{-\\infty}dy\\,h(y)e^{-\\frac{(x-y)^2}{4Dt}})$.\n",
    "\n",
    "$\\implies \\frac{\\partial \\phi(x, t)}{\\partial t} = D\\frac{\\partial^2\\phi(x,t)}{\\partial^2x}$ $$\\tag*{$\\blacksquare$}$$.\n",
    "\n"
   ]
  },
  {
   "cell_type": "markdown",
   "metadata": {
    "colab_type": "text",
    "id": "RAo-Yc9jE33P"
   },
   "source": [
    "# Exercise 3.2:\n",
    "The probability of finding a particle in position $x$ in a potential landscape $V(x)$ is given by $P(x) = Ze^{-\\beta V(x)}$, where $Z$ is the canonical partition function of the system and $\\beta = (k_B T)^{-1}$.\n",
    "\n",
    "During a random walk the probability for a particle to move in positive direction, stay put or move in negative direction is, respectively, $\\{p^{+}, p^{0}, p^{-}\\}$, and the sum of them must add up to one. That means the probabilities must satisfy the equation $p^{+} + p^{0} + p^{-} = 1$. We assume each of the probabilities are proportional to $P(x)$ and that the proportionality constant, $C$, is equal for all steps. If the position before a random walk step is $x_0$ we get $p^{+}=CP(x_0+1)$, $p^{0}=CP(x_0)$ and $p^{-}=CP(x_0-1)$. By putting these expressions in the equation above we find the constant $C=\\frac{1}{P(x_0+1)+P(x_0)+P(x_0-1)}$ \n",
    "and find the desired probabilities:\n",
    "\n",
    "$p^{+}=\\frac{P(x_0+1)}{P(x_0+1)+P(x_0)+P(x_0-1)} = \\frac{1}{1+e^{-\\beta [V(x_0-1)-V(x_0+1)]}+e^{-\\beta [V(x_0)-V(x_0+1)]}}$\n",
    "\n",
    "$p^{0}=\\frac{P(x_0)}{P(x_0+1)+P(x_0)+P(x_0-1)} = \\frac{1}{1+e^{-\\beta [V(x_0-1)-V(x_0)]}+e^{-\\beta [V(x_0+1)-V(x_0)]}}$\n",
    "\n",
    "$p^{-}=\\frac{P(x_0-1)}{P(x_0+1)+P(x_0)+P(x_0-1)} = \\frac{1}{1+e^{-\\beta [V(x_0+1)-V(x_0-1)]}+e^{-\\beta [V(x_0)-V(x_0-1)]}}$."
   ]
  },
  {
   "cell_type": "markdown",
   "metadata": {
    "colab_type": "text",
    "id": "ATCOHxDxE6As"
   },
   "source": [
    "# Exercise 3.3:\n",
    "With the contidion\n",
    "\n",
    "$k_B T  \\gg  \\left|V(x+1)-V(x) \\right| = \\left|\\Delta V(x)\\right|  \\implies  \\beta \\left|\\Delta V(x) \\right| \\ll 1$\n",
    "\n",
    "all the exponential terms will go towards one $e^{-\\beta \\left|\\Delta V(x) \\right|} \\approx e^{\\beta \\left| \\Delta V(x) \\right|} \\approx 1$. Since the contidion must hold for any $x$ the difference in potential, $\\left| \\Delta V(x) \\right|$, represents a difference for an arbitrary position $x$. By inserting $\\left| \\Delta V(x) \\right|$ in the probabilities found in task 3.2 and taking absolute value we get\n",
    "$p^{+} = \\frac{1}{1+e^{2 \\beta \\left| \\Delta V(x) \\right|} + e^{\\beta \\left| \\Delta V(x) \\right|}} \\approx \\frac{1}{3}$, \n",
    "\n",
    "$p^{0} = \\frac{1}{1+e^{\\beta \\left| \\Delta V(x) \\right|} + e^{-\\beta \\left| \\Delta V(x) \\right|}} \\approx \\frac{1}{3}$ and\n",
    "\n",
    "$p^{-} = \\frac{1}{1+e^{-2 \\beta \\left| \\Delta V(x) \\right|} + e^{-\\beta \\left| \\Delta V(x) \\right|}} \\approx \\frac{1}{3}$.\n",
    "\n",
    "This makes sense cause here the potential is insignificant in relation to the thermal energy and therefore the particles must have equal probabilities to either stay put, move to left or to the right. \n",
    "\n",
    "To check the other option, when the potential difference is much bigger than the thermal energy \n",
    "$k_B T  \\ll  \\left|V(x+1)-V(x) \\right| = \\left|\\Delta V(x)\\right|$. From this we get $\\beta \\left|\\Delta V(x) \\right| \\gg 1 \\implies e^{\\beta \\left| \\Delta V(x) \\right|} \\approx \\infty$ and for the negative case $ -\\beta \\left|\\Delta V(x) \\right| \\ll 1 \\implies e^{-\\beta \\left| \\Delta V(x) \\right|} \\approx 0$. \n",
    "\n",
    "With the same expressions for the probabilities as above we wee that $p^{+} \\approx p^{0} \\approx 0$ and\n",
    "\n",
    "$p^{-} = \\frac{1}{1+e^{-2 \\beta \\left| \\Delta V(x) \\right|} + e^{-\\beta \\left| \\Delta V(x) \\right|}} \\approx 1$. \n",
    "\n",
    "If the potential difference was set the other way in the condition $k_B T  \\ll  \\left|V(x)-V(x+1) \\right|$ the probability $p^{+}$ would go towards one and $p^{0} \\approx p^{-} \\approx 0$. \n",
    "\n",
    "This shows that in the first case the potential is neglible, and in the second the thermal energy is neglible. This supports our way to go when we in this excercise don't take the thermal energy into account. \n"
   ]
  },
  {
   "cell_type": "markdown",
   "metadata": {
    "colab_type": "text",
    "id": "__-H3RwKE6NB"
   },
   "source": [
    "# Warm-up exercises:\n",
    "* Start with 10000 particles at x = 0\n",
    "* Each particle is subject to a random walk for 200 time steps\n",
    "* Step length h = 1\n",
    "* Time step $\\Delta t = 1$\n",
    "\n",
    "Pick a random number between 0 and 1. Walk in the directions that the probabilities dictate. "
   ]
  },
  {
   "cell_type": "markdown",
   "metadata": {
    "colab_type": "text",
    "id": "PMMFlxcTFCZl"
   },
   "source": [
    "# Programming exercise 4:"
   ]
  },
  {
   "cell_type": "code",
   "execution_count": 19,
   "metadata": {
    "colab": {},
    "colab_type": "code",
    "id": "mzSF_IT9E_v1"
   },
   "outputs": [],
   "source": [
    "import numpy as np\n",
    "from scipy.stats import norm\n",
    "import matplotlib.pyplot as plt \n",
    "from math import e\n",
    "import random as rand\n",
    "from numba import jit\n",
    "\n",
    "#Lage skikkelige docstrings til alle funksjonene + sjekke at det brukes snake-case i all navngiving! (før innlevering)\n",
    "\n",
    "# Probabililities from ex. 3 \n",
    "\n",
    "@jit(nopython=True)\n",
    "def p_plus(x_0, V, beta_k):\n",
    "    return 1/(1+e**(-beta_k*(V(x_0-1)-V(x_0+1)))+e**(-beta_k*(V(x_0)-V(x_0+1))))\n",
    "\n",
    "@jit(nopython=True)\n",
    "def p_zero(x_0, V, beta_k):\n",
    "    return 1/(1+e**(-beta_k*(V(x_0-1)-V(x_0)))+e**(-beta_k*(V(x_0+1)-V(x_0))))\n",
    "\n",
    "@jit(nopython=True)\n",
    "def p_minus(x_0, V, beta_k):\n",
    "    return 1/(1+e**(-beta_k*(V(x_0+1)-V(x_0-1)))+e**(-beta_k*(V(x_0)-V(x_0-1))))\n",
    "\n",
    "#Constants for ex. 4\n",
    "time_steps = 200\n",
    "amount_of_particles = 1000  # --- skal egt ha 10 000?\n",
    "beta_k = [0.01, 1, 100] # betaAndK = one value from the list beta_k\n",
    "step_length = 1\n",
    "\n",
    "\n",
    "#Makes Result with a potential V and value betaAndK. \n",
    "#@jit(nopython=True)\n",
    "def get_result(V, betaAndK):\n",
    "    init = np.zeros((amount_of_particles,), dtype=np.int64)\n",
    "    for step in range(time_steps):\n",
    "        for position in range(len(init)):\n",
    "             \n",
    "            p = np.random.uniform(0,1)\n",
    "            if p <= p_minus(init[position],V, betaAndK):\n",
    "                init[position] -= 1\n",
    "            elif p > (1-p_plus(init[position],V, betaAndK)):\n",
    "                init[position] += 1\n",
    "    return init\n",
    "\n",
    "#Plotting result\n",
    "def plot_result(result):\n",
    "    y = np.zeros(((max(result)-min(result))+1,),dtype=np.int64)\n",
    "    for element in result:\n",
    "        indeks = int(element-min(result))\n",
    "        y[indeks] += 1   \n",
    "    x = np.arange(min(result), max(result)+1, 1)\n",
    "    plt.plot(x,y, label=\"Raw data\")\n",
    "    print(x,y)\n",
    "    #Får ikke til scipy.fit!\n",
    "    #mean, std = norm.fit(y)\n",
    "    #pdf = norm.pdf(y, mean, std)\n",
    "    #plt.plot(x, pdf, label=\"PDF\")\n",
    "    plt.legend()\n",
    "    plt.show()\n",
    "\n",
    "    #fig, axs = plt.subplots(1, 3, figsize=(10, 4), tight_layout=True)\n",
    "    #axs[0].plot(x,y) #example on how to plot subplots, but need to do some changes to be able to plot all three of them\n",
    "    #axs[1].plot(x,y) #Maybe hard to do in one general function like this\n",
    "    #axs[2].plot(x,y)\n",
    "    #plt.plot(x,y)\n",
    "    #####plt.plot(x, norm.pdf(y)) #use norm to fit somehow\n",
    "    #plt.show()\n",
    "\n",
    "#Burde heller plottes i subplots til senere. \n",
    "# Mangler å fitte(!) normalfordelingene + ev. diskusjon rundt resultatene.\n",
    "def mean(data):\n",
    "    sum = 0\n",
    "    for element in data:\n",
    "        sum += element\n",
    "    return sum/len(data)\n",
    "\n",
    "def std(data):\n",
    "    sum = 0\n",
    "    mu = mean(data)\n",
    "    n = len(data)\n",
    "    for element in data:\n",
    "        sum += (element-mu)**2\n",
    "    return np.sqrt(sum/(n-1))\n",
    "\n",
    "def normal(x,mean,std):\n",
    "    return 1/(std*np.sqrt(2*np.pi)) * np.e**(-1/2 * ((x-mean)/std)**2)\n",
    "\n",
    "def plot_hist(result):\n",
    "    x = np.arange(min(result),max(result),1)\n",
    "    plt.hist(result, label=\"normalized particle intensity\")\n",
    "    plt.show()\n",
    "\n",
    "def plot_normhist(result):\n",
    "    x = np.arange(min(result),max(result),1)\n",
    "    plt.hist(result, density = True, label=\"normalized particle intensity\")\n",
    "    \n",
    "    plt.plot(x,normal(x,mean(result),std(result)))\n",
    "    plt.show()\n",
    "    print(\"mean: \" + str(mean(result)) + \", std: \" + str(std(result)))"
   ]
  },
  {
   "cell_type": "markdown",
   "metadata": {
    "colab_type": "text",
    "id": "Yg34syG7vIlX"
   },
   "source": [
    "\n",
    "\n",
    "```\n",
    "# This is formatted as code\n",
    "```\n",
    "\n",
    "## Programming exercise 4.1:"
   ]
  },
  {
   "cell_type": "code",
   "execution_count": 20,
   "metadata": {
    "colab": {
     "base_uri": "https://localhost:8080/",
     "height": 813
    },
    "colab_type": "code",
    "id": "OKceF6F7vODe",
    "outputId": "f94b2266-0121-4311-cde3-3e217143ea41"
   },
   "outputs": [
    {
     "data": {
      "image/png": "[encoded data removed]",
      "text/plain": [
       "<Figure size 432x288 with 1 Axes>"
      ]
     },
     "metadata": {
      "needs_background": "light"
     },
     "output_type": "display_data"
    },
    {
     "name": "stdout",
     "output_type": "stream",
     "text": [
      "mean: -0.159, std: 11.564750860371463\n"
     ]
    },
    {
     "data": {
      "image/png": "[encoded data removed]",
      "text/plain": [
       "<Figure size 432x288 with 1 Axes>"
      ]
     },
     "metadata": {
      "needs_background": "light"
     },
     "output_type": "display_data"
    },
    {
     "name": "stdout",
     "output_type": "stream",
     "text": [
      "mean: -0.052, std: 11.547668363987796\n"
     ]
    },
    {
     "data": {
      "image/png": "[encoded data removed]",
      "text/plain": [
       "<Figure size 432x288 with 1 Axes>"
      ]
     },
     "metadata": {
      "needs_background": "light"
     },
     "output_type": "display_data"
    },
    {
     "name": "stdout",
     "output_type": "stream",
     "text": [
      "mean: 0.143, std: 11.052361996682237\n"
     ]
    }
   ],
   "source": [
    "# Potential number one, the constant k is with betaAndK in getResult\n",
    "@jit(nopython=True)\n",
    "def V_1(x):\n",
    "    return 1\n",
    "\n",
    "plot_normhist(get_result(V_1,beta_k[0]))\n",
    "plot_normhist(get_result(V_1,beta_k[1]))\n",
    "plot_normhist(get_result(V_1,beta_k[2]))\n",
    "## Ser at grafene til V_1 er uavh. av verdien til betaAndK, altså uavhengig av den termiske energien.\n",
    "## Det er fordi at å plusse på en konstant til en random walk prosess er bare som å øke den totale energien for alle partiklene og vil ikke endre utfallet av prosessen, men kanskje tiden det tar. \n",
    "  "
   ]
  },
  {
   "cell_type": "markdown",
   "metadata": {
    "colab_type": "text",
    "id": "kHdZD2lcnglI"
   },
   "source": [
    "### Discussion 4.1\n",
    "The resulting distribution of particles is seemingly unaffected by the ratio $\\beta k$. This is reasonable, since the potential $V$ is constant, meaning that the particles will not move in any particular direction to minimize their potential energy. We also se that the mathematical probabilites in 3.2 become $p^+ = p^0 = p^- = \\frac {1}{3}$ .\n",
    "\n",
    "Trenger mer teori fra sec. 2???"
   ]
  },
  {
   "cell_type": "markdown",
   "metadata": {
    "colab_type": "text",
    "id": "5MAV0FIDFMFZ"
   },
   "source": [
    "## Programming exercise 4.2:"
   ]
  },
  {
   "cell_type": "code",
   "execution_count": 21,
   "metadata": {
    "colab": {
     "base_uri": "https://localhost:8080/",
     "height": 828
    },
    "colab_type": "code",
    "id": "kO-eZ17DFF5e",
    "outputId": "9fdb752c-d22f-4877-e88c-21ecfd36bc39"
   },
   "outputs": [
    {
     "data": {
      "image/png": "[encoded data removed]",
      "text/plain": [
       "<Figure size 432x288 with 1 Axes>"
      ]
     },
     "metadata": {
      "needs_background": "light"
     },
     "output_type": "display_data"
    },
    {
     "name": "stdout",
     "output_type": "stream",
     "text": [
      "mean: -1.177, std: 11.628796150070734\n"
     ]
    },
    {
     "data": {
      "image/png": "[encoded data removed]",
      "text/plain": [
       "<Figure size 432x288 with 1 Axes>"
      ]
     },
     "metadata": {
      "needs_background": "light"
     },
     "output_type": "display_data"
    },
    {
     "name": "stdout",
     "output_type": "stream",
     "text": [
      "mean: -114.957, std: 9.15680064203639\n"
     ]
    },
    {
     "name": "stderr",
     "output_type": "stream",
     "text": [
      "C:\\Users\\joste\\Anaconda3\\lib\\site-packages\\ipykernel_launcher.py:86: RuntimeWarning: divide by zero encountered in double_scalars\n"
     ]
    },
    {
     "data": {
      "image/png": "[encoded data removed]",
      "text/plain": [
       "<Figure size 432x288 with 1 Axes>"
      ]
     },
     "metadata": {
      "needs_background": "light"
     },
     "output_type": "display_data"
    },
    {
     "name": "stdout",
     "output_type": "stream",
     "text": [
      "mean: -200.0, std: 0.0\n"
     ]
    }
   ],
   "source": [
    "@jit(nopython=True)\n",
    "def V_2(x):\n",
    "    return x\n",
    "\n",
    "plot_normhist(get_result(V_2,beta_k[0]))\n",
    "plot_normhist(get_result(V_2,beta_k[1]))\n",
    "plot_normhist(get_result(V_2,beta_k[2]))\n",
    "#V_2 er en odde funksjon så partiklene vil minimere sn potensielle energi ved å gå mot lav potensiale. \n",
    "#Ved betaAndK = 0.01 ser man ikke så mye pga den termiske energien er stor i forhold til potensiale.\n",
    "#Ved betaAndK = 1 ser man en sterk drifting mot venstre, altså at intensiteten av x-posisjoner er større mot venste og massepunktet forskjøvet.\n",
    "#Ved betaAndK = 100 er potensialet veldig stort i forhold til den termiske energien og alle partiklene går til posisjon -200, da for å minimere sin potensielle energi.\n"
   ]
  },
  {
   "cell_type": "markdown",
   "metadata": {
    "colab_type": "text",
    "id": "c9PJkpTgwqhJ"
   },
   "source": [
    "###Discussion 4.2"
   ]
  },
  {
   "cell_type": "markdown",
   "metadata": {
    "colab_type": "text",
    "id": "vCdSkfilFRcS"
   },
   "source": [
    "## Programming exercise 4.3:\n"
   ]
  },
  {
   "cell_type": "code",
   "execution_count": 22,
   "metadata": {
    "colab": {
     "base_uri": "https://localhost:8080/",
     "height": 762
    },
    "colab_type": "code",
    "id": "qMoSdCYNFS3s",
    "outputId": "42d51d36-933b-418b-d535-c305290763fe"
   },
   "outputs": [
    {
     "data": {
      "image/png": "[encoded data removed]",
      "text/plain": [
       "<Figure size 432x288 with 1 Axes>"
      ]
     },
     "metadata": {
      "needs_background": "light"
     },
     "output_type": "display_data"
    },
    {
     "data": {
      "image/png": "[encoded data removed]",
      "text/plain": [
       "<Figure size 432x288 with 1 Axes>"
      ]
     },
     "metadata": {
      "needs_background": "light"
     },
     "output_type": "display_data"
    },
    {
     "data": {
      "image/png": "[encoded data removed]",
      "text/plain": [
       "<Figure size 432x288 with 1 Axes>"
      ]
     },
     "metadata": {
      "needs_background": "light"
     },
     "output_type": "display_data"
    }
   ],
   "source": [
    "@jit(nopython=True)\n",
    "def V_3(x):\n",
    "    return ((x/20)+np.sin(x/5))\n",
    "\n",
    "plot_hist(get_result(V_3,beta_k[0]))\n",
    "plot_hist(get_result(V_3,beta_k[1]))\n",
    "plot_hist(get_result(V_3,beta_k[2]))\n",
    "#Ved betaAndK = 0.01 er energien for stor og kommer seg opp av \"gropene\" i potensialet\n",
    "#Ved betaAndK = 1 faller nesten alle partiklene i første gropen i potensialfunksjonen, da fordi den termiske energien ikke er stor nok til å komme ut. \n",
    "##Såpass konsentrert at det danner ish en normalfordeling inni gropen. Er ikke veldig konsentrert i dette tilfelle\n",
    "#betaAndK = 100; Får ish 3 datapunkter der nesten alle partiklene er nøyaktig på bunnpunktet og de resterende er 1 eller 2 steglengder unna\n",
    "\n",
    "#Må kjøre 200 steps for beta:k = 0.01 og så 200 steps for beta_k = 100.\n",
    "\n"
   ]
  },
  {
   "cell_type": "markdown",
   "metadata": {
    "colab_type": "text",
    "id": "YiIWgo-KxC4J"
   },
   "source": [
    "##### Discussion 4.3"
   ]
  },
  {
   "cell_type": "markdown",
   "metadata": {
    "colab_type": "text",
    "id": "evad1lQ8FV-K"
   },
   "source": [
    "## Programming exercise 4.4:\n"
   ]
  },
  {
   "cell_type": "code",
   "execution_count": 23,
   "metadata": {
    "colab": {
     "base_uri": "https://localhost:8080/",
     "height": 761
    },
    "colab_type": "code",
    "id": "Hj3BstrBFXrr",
    "outputId": "03bb02d5-b420-4963-f9f7-f3c68c263913"
   },
   "outputs": [
    {
     "data": {
      "image/png": "[encoded data removed]",
      "text/plain": [
       "<Figure size 432x288 with 1 Axes>"
      ]
     },
     "metadata": {
      "needs_background": "light"
     },
     "output_type": "display_data"
    },
    {
     "data": {
      "image/png": "[encoded data removed]",
      "text/plain": [
       "<Figure size 432x288 with 1 Axes>"
      ]
     },
     "metadata": {
      "needs_background": "light"
     },
     "output_type": "display_data"
    },
    {
     "data": {
      "image/png": "[encoded data removed]",
      "text/plain": [
       "<Figure size 432x288 with 1 Axes>"
      ]
     },
     "metadata": {
      "needs_background": "light"
     },
     "output_type": "display_data"
    }
   ],
   "source": [
    "@jit(nopython=True)\n",
    "def V_4(x):\n",
    "    return x**2\n",
    "plot_hist(get_result(V_4,beta_k[0]))\n",
    "plot_hist(get_result(V_4,beta_k[1])) \n",
    "plot_hist(get_result(V_4,beta_k[2]))\n",
    "#betaAndK = 0.01; Er en jevn-funksjon der det minimale potensiale er i x=0. Her er det litt spredning, men mer konsentrert enn ved konstant potensiale\n",
    "#betaAndK = 1; Blir bare mer og mer konentrert om x=0\n",
    "#betaAndK = 100; Blir ett punkt i x=0. Dvs. alle partiklene er i samme posisjon x=0. "
   ]
  },
  {
   "cell_type": "markdown",
   "metadata": {
    "colab_type": "text",
    "id": "fI_14hROxRY1"
   },
   "source": [
    "###Discussion 4.4"
   ]
  },
  {
   "cell_type": "markdown",
   "metadata": {
    "colab_type": "text",
    "id": "Pp4AkGzjbbs4"
   },
   "source": [
    "# 5 Random walk in a ratchet potential"
   ]
  },
  {
   "cell_type": "code",
   "execution_count": 24,
   "metadata": {
    "colab": {},
    "colab_type": "code",
    "id": "krrV23y4bnRG"
   },
   "outputs": [],
   "source": [
    "#Constants\n",
    "h = 1\n",
    "T_p = 500 \n",
    "delta_t = 1\n",
    "beta_k = 1000\n",
    "N_x = 90  \n",
    "N_p = 12*N_x\n",
    "cycles = 10\n",
    "jumps = 2*cycles\n",
    "\n",
    "alpha = 0.8\n",
    "\n",
    "x_first=-89          \n",
    "x_last = 90          \n",
    "\n",
    "@jit(nopython=True)\n",
    "def V_sawtooth(x, alpha): \n",
    "    #V_1(x) from the task-description\n",
    "    if not (-(1-alpha)*N_x < x <= alpha*N_x): \n",
    "        x = x+N_x #periodicity of the function\n",
    "    if (0 < x <= alpha*N_x):\n",
    "        return x/(alpha*N_x) \n",
    "    else:\n",
    "        return -1*(x/((1-alpha)*N_x))\n",
    "\n",
    "@jit(nopython=True)  \n",
    "def V_constant(x, alpha):\n",
    "    c = 1\n",
    "    return c\n",
    "  \n",
    "@jit(nopython=True)\n",
    "def J(n_plus,n_minus):\n",
    "    return (n_plus-n_minus)/N_p\n",
    "\n",
    "#ikke Jit her\n",
    "def J_avg(current_list):\n",
    "    average = sum(current_list)/len(current_list)\n",
    "    return average\n",
    "\n",
    "@jit(nopython=True)\n",
    "def p_minus_cycle(x_0, V, alpha, beta_k): \n",
    "\n",
    "    value = 0\n",
    "    if x_0 == x_first:\n",
    "        value = 1/(1+e**(-beta_k*(V(x_0+1,alpha)-V(x_last, alpha)))+e**(-beta_k*(V(x_0,alpha)-V(x_last,alpha))))\n",
    "    elif x_0 == x_last:\n",
    "        value = 1/(1+e**(-beta_k*(V(x_first,alpha)-V(x_0-1,alpha)))+e**(-beta_k*(V(x_0,alpha)-V(x_0-1,alpha))))\n",
    "    else:\n",
    "        value = 1/(1+e**(-beta_k*(V(x_0+1,alpha)-V(x_0-1,alpha)))+e**(-beta_k*(V(x_0,alpha)-V(x_0-1,alpha))))\n",
    "    return value\n",
    "\n",
    "@jit(nopython=True)\n",
    "def p_plus_cycle(x_0, V, alpha, beta_k):\n",
    "\n",
    "    value = 0\n",
    "    if x_0 == x_first:\n",
    "        value = 1/(1+e**(-beta_k*(V(x_last,alpha)-V(x_0+1,alpha)))+e**(-beta_k*(V(x_0,alpha)-V(x_0+1,alpha))))\n",
    "    elif x_0 == x_last:\n",
    "        value = 1/(1+e**(-beta_k*(V(x_0-1,alpha)-V(x_first,alpha)))+e**(-beta_k*(V(x_0,alpha)-V(x_first,alpha))))\n",
    "    else:\n",
    "        value = 1/(1+e**(-beta_k*(V(x_0-1,alpha)-V(x_0+1,alpha)))+e**(-beta_k*(V(x_0,alpha)-V(x_0+1,alpha))))\n",
    "    return value\n",
    "\n",
    "@jit(nopython=True)\n",
    "def fill_particles():\n",
    "\n",
    "    particles = np.zeros(N_p,dtype = np.int64)\n",
    "    number = x_first\n",
    "    for i in range(1,len(particles)+1):\n",
    "        particles[i-1] = number\n",
    "        if i%6 == 0:\n",
    "            number += 1\n",
    "    return particles\n",
    "\n",
    "@jit(nopython=True)\n",
    "def get_current_per_time_step(V, init, time_steps, alpha, beta_k):\n",
    "\n",
    "    current_list_per_time_step = []\n",
    "    for step in range(time_steps):\n",
    "        countPos = 0\n",
    "        countNeg = 0\n",
    "        for position in range(len(init)):\n",
    "            p = np.random.uniform(0,1)\n",
    "            if p <= p_minus_cycle(init[position],V, alpha, beta_k):\n",
    "                if init[position] == x_first:\n",
    "                    init[position] = x_last\n",
    "                else:\n",
    "                    init[position] -= 1\n",
    "                countNeg +=1\n",
    "            elif p > (1-p_plus_cycle(init[position],V, alpha, beta_k)):\n",
    "                if init[position] == x_last:\n",
    "                    init[position] = x_first\n",
    "                else:\n",
    "                    init[position] += 1\n",
    "                countPos +=1\n",
    "        current_list_per_time_step.append(J(countPos, countNeg))\n",
    "    return current_list_per_time_step\n",
    "\n",
    "def get_cycle_averaged_current(particles, V1, V2, T_p, jumps, alpha, beta_k):\n",
    "    average_currents = []\n",
    "    for i in range(jumps):\n",
    "        if i%2 == 0:\n",
    "            currents_per_time_step = get_current_per_time_step(V2,particles,T_p, alpha, beta_k)\n",
    "            current_list = currents_per_time_step\n",
    "        else:\n",
    "            currents_per_time_step = get_current_per_time_step(V1,particles,T_p, alpha, beta_k)\n",
    "            current_list += currents_per_time_step\n",
    "            average_currents.append(J_avg(current_list))\n",
    "    return average_currents\n",
    "        "
   ]
  },
  {
   "cell_type": "markdown",
   "metadata": {
    "colab_type": "text",
    "id": "7UgQdnlQbghi"
   },
   "source": [
    "## 5.1 Programming exercise 5.1"
   ]
  },
  {
   "cell_type": "code",
   "execution_count": 25,
   "metadata": {
    "colab": {
     "base_uri": "https://localhost:8080/",
     "height": 54
    },
    "colab_type": "code",
    "id": "mazpvvnBcvtC",
    "outputId": "cc7372fa-a38d-4940-939d-213ecf6aa668"
   },
   "outputs": [
    {
     "name": "stdout",
     "output_type": "stream",
     "text": [
      "[-0.026583333333333337, -0.014166666666666664, -0.014833333333333327, -0.01533333333333333, -0.014833333333333334, -0.013166666666666662, -0.014583333333333337, -0.012750000000000004, -0.014416666666666666, -0.012250000000000002]\n"
     ]
    }
   ],
   "source": [
    "particles = fill_particles() \n",
    "print(get_cycle_averaged_current(particles,V_sawtooth, V_constant,T_p, jumps,alpha, beta_k))"
   ]
  },
  {
   "cell_type": "markdown",
   "metadata": {
    "colab_type": "text",
    "id": "h1lpYROi1_gX"
   },
   "source": [
    "### Discussion 5.1"
   ]
  },
  {
   "cell_type": "markdown",
   "metadata": {
    "colab_type": "text",
    "id": "ZhSPZsSawGpb"
   },
   "source": [
    "* Why we get non-zero currents: \n",
    "\n",
    "The potential is not symmetric, which means that there will be a current towards one of the sides. When $\\alpha = 0.2$ the potential is \"leaning\" to the left, which is why we get currents that tend towards the left. \n",
    "\n",
    "***Needs to be explained more clearly! (better physical interpretation!)***"
   ]
  },
  {
   "cell_type": "markdown",
   "metadata": {
    "colab_type": "text",
    "id": "piNI6o5QeG9Z"
   },
   "source": [
    "* Compare $J_{avg}(0)$ with $J_{avg}(n)$ for n > 0:\n",
    "\n",
    "It is apparent that the averaged current during the first cycle is bigger than the other cycle-averaged currents. The fact that particles seek to minimize their potential energy can be used to give a physical interpretaion of this observation. The particles are the furthest from the positions of lowest potential in the beginning, when they are uniformly distributed. Therefore, they will move less during each cycle as the numberof cycles increases. Based on this, the first cycle-average current must be the largest of the bunch. However, the currents should decrease monotonically, based on the same logic. This does not happen, as we can see. This could be a result of natural motions/vibrations amongst the paerticles, since they have kinetic energy (Or just Brownian motion?).\n",
    "\n",
    "***But why don't the rest of the currents decrease monotonically? Is this a consequence of natural vibrations/motion? Temperature? Discuss!***"
   ]
  },
  {
   "cell_type": "markdown",
   "metadata": {
    "colab_type": "text",
    "id": "8LAxi1m8g2VW"
   },
   "source": [
    "* Comparison: $\\alpha = 0.2$ vs $\\alpha = 0.8$:\n",
    "\n",
    "The potential has the same shape with both these values of $\\alpha$, but the entire potential function is flipped by 180 degrees on the x-axis ***Finner ikke bedre ord for dette på engelsk akk nå!***. Therefore, it is expected that the values of the cycle-averaged currents should be equal, but with flipped signs. We can observe that this is/is not the case from the data we simulated. ***Er noe litt rart med strømmene fortsatt, da jeg får omtrent samme verdier uansett alpha (negative verdier)?!*** "
   ]
  },
  {
   "cell_type": "markdown",
   "metadata": {
    "colab_type": "text",
    "id": "pK4E0n2MjkjE"
   },
   "source": [
    "## Programming exercise 5.2"
   ]
  },
  {
   "cell_type": "markdown",
   "metadata": {
    "colab_type": "text",
    "id": "w-MZhhhbPvRl"
   },
   "source": [
    "The two x-coordinates which coincide with the minima of $V_1(x)$ must be $x = 0$ and $x = 0 + nN_x$, since it is periodic. The part of $V_1(x)$ which lies within $0 < x \\leq \\alpha N_x$ is a rising function, which means that it's minima is when $x$ is the smallest $\\Rightarrow$ $x = 0$.The other part of $V_1(x)$ is a descending function, which means that it's minima is at the highest possible $x$ value in the interval $\\Rightarrow$ x = 0. However, since the potential is periodic, we have one more minima at $x = N_x$. "
   ]
  },
  {
   "cell_type": "code",
   "execution_count": 26,
   "metadata": {
    "colab": {
     "base_uri": "https://localhost:8080/",
     "height": 302
    },
    "colab_type": "code",
    "id": "96JIBtaBjnyw",
    "outputId": "dd989695-fcf2-4849-e7e5-508254611fc2"
   },
   "outputs": [
    {
     "data": {
      "image/png": "[encoded data removed]",
      "text/plain": [
       "<Figure size 432x288 with 1 Axes>"
      ]
     },
     "metadata": {
      "needs_background": "light"
     },
     "output_type": "display_data"
    }
   ],
   "source": [
    "def reset_positioning():\n",
    "    particles = np.zeros(N_p,dtype = np.int64)\n",
    "    for i in range(len(particles)):\n",
    "        if i < (len(particles)/2):\n",
    "            particles[i] = 0\n",
    "        else: \n",
    "            particles[i] = N_x \n",
    "    return particles\n",
    "\n",
    "#Constants\n",
    "N_p = 3600 #40*N_x\n",
    "alpha = 0.8\n",
    "jumps=2\n",
    "beta_k = 1000\n",
    "\n",
    "def avg_current_vs_time(T_p_values):\n",
    "    average_currents = []\n",
    "    for T_p in T_p_values:\n",
    "        particles = reset_positioning()\n",
    "        average_currents+=get_cycle_averaged_current(particles, V_sawtooth, V_constant, T_p, jumps, alpha, beta_k)\n",
    "    return np.array(average_currents)\n",
    "\n",
    "T_p_values = np.linspace(1,500,50)\n",
    "plt.plot(T_p_values, avg_current_vs_time(T_p_values))\n",
    "plt.show()"
   ]
  },
  {
   "cell_type": "markdown",
   "metadata": {
    "colab_type": "text",
    "id": "FNuHMrQjkVdW"
   },
   "source": [
    "#### Observations: \n",
    "\n"
   ]
  },
  {
   "cell_type": "markdown",
   "metadata": {
    "colab_type": "text",
    "id": "g0J-mgIfjrlQ"
   },
   "source": [
    "## Programming exercise 5.3"
   ]
  },
  {
   "cell_type": "code",
   "execution_count": 36,
   "metadata": {
    "colab": {
     "base_uri": "https://localhost:8080/",
     "height": 302
    },
    "colab_type": "code",
    "id": "Acq6ZKRvjtpK",
    "outputId": "2eb13a8e-c237-40ca-e57b-02a61185a9c6"
   },
   "outputs": [
    {
     "name": "stdout",
     "output_type": "stream",
     "text": [
      "[0.01960784 0.03921569 0.05882353 0.07843137 0.09803922 0.11764706\n",
      " 0.1372549  0.15686275 0.17647059 0.19607843 0.21568627 0.23529412\n",
      " 0.25490196 0.2745098  0.29411765 0.31372549 0.33333333 0.35294118\n",
      " 0.37254902 0.39215686 0.41176471 0.43137255 0.45098039 0.47058824\n",
      " 0.49019608 0.50980392 0.52941176 0.54901961 0.56862745 0.58823529\n",
      " 0.60784314 0.62745098 0.64705882 0.66666667 0.68627451 0.70588235\n",
      " 0.7254902  0.74509804 0.76470588 0.78431373 0.80392157 0.82352941\n",
      " 0.84313725 0.8627451  0.88235294 0.90196078 0.92156863 0.94117647\n",
      " 0.96078431 0.98039216]\n"
     ]
    },
    {
     "data": {
      "image/png": "[encoded data removed]",
      "text/plain": [
       "<Figure size 432x288 with 1 Axes>"
      ]
     },
     "metadata": {
      "needs_background": "light"
     },
     "output_type": "display_data"
    }
   ],
   "source": [
    "N_p = 1080 #12*N_x\n",
    "T_p = 500\n",
    "jumps = 2\n",
    "beta_k = 1000\n",
    "\n",
    "def avg_current_vs_alpha(alpha_values, beta_k):\n",
    "    average_currents = []\n",
    "    for alpha in alpha_values:\n",
    "        particles = reset_positioning()\n",
    "        average_currents+=get_cycle_averaged_current(particles, V_sawtooth, V_constant, T_p, jumps, alpha, beta_k)\n",
    "    return np.array(average_currents)\n",
    "\n",
    "N = 50\n",
    "dalpha = 1/(N+1)\n",
    "alpha_values = np.array([n*dalpha for n in range(1,N+1)])\n",
    "\n",
    "plt.plot(alpha_values, avg_current_vs_alpha(alpha_values, beta_k))\n",
    "plt.show()"
   ]
  },
  {
   "cell_type": "markdown",
   "metadata": {
    "colab_type": "text",
    "id": "kc3VQqLvs9QZ"
   },
   "source": [
    "#### Observations: "
   ]
  },
  {
   "cell_type": "markdown",
   "metadata": {
    "colab_type": "text",
    "id": "svhvInxKjuIr"
   },
   "source": [
    "# 6 Analytical solution"
   ]
  },
  {
   "cell_type": "code",
   "execution_count": null,
   "metadata": {
    "colab": {},
    "colab_type": "code",
    "id": "TLj8IyvVjxNN"
   },
   "outputs": [],
   "source": []
  },
  {
   "cell_type": "markdown",
   "metadata": {
    "colab_type": "text",
    "id": "g3Vfvmn4jyub"
   },
   "source": [
    "## Programming exercise 6.1"
   ]
  },
  {
   "cell_type": "code",
   "execution_count": 37,
   "metadata": {
    "colab": {},
    "colab_type": "code",
    "id": "LLVgOW_Vj1Ph"
   },
   "outputs": [
    {
     "data": {
      "image/png": "[encoded data removed]",
      "text/plain": [
       "<Figure size 432x288 with 1 Axes>"
      ]
     },
     "metadata": {
      "needs_background": "light"
     },
     "output_type": "display_data"
    }
   ],
   "source": [
    "N_p = 1080 #12*N_x, N_x=90\n",
    "T_p = 500\n",
    "jumps = 2\n",
    "beta_k = 1000\n",
    "\n",
    "from scipy import special\n",
    "\n",
    "def J_avg_an(alpha,T_p):\n",
    "    return  N_x/(4*T_p) * (special.erfc( alpha*N_x/2 * np.sqrt(3/T_p) ) - special.erfc( (1-alpha)*N_x/2 * np.sqrt(3/T_p)))\n",
    "\n",
    "\n",
    "#PLotter J(alpha)\n",
    "N = 50\n",
    "dalpha = 1/(N+1)\n",
    "alpha_values = np.array([n*dalpha for n in range(1,N+1)])\n",
    "plt.plot(alpha_values, avg_current_vs_alpha(alpha_values, beta_k))\n",
    "plt.plot(alpha_values,J_avg_an(alpha_values,T_p))\n",
    "plt.show()"
   ]
  },
  {
   "cell_type": "markdown",
   "metadata": {
    "colab_type": "text",
    "id": "qu51xVD0j1vs"
   },
   "source": [
    "## Programming exercise 6.2"
   ]
  },
  {
   "cell_type": "code",
   "execution_count": 30,
   "metadata": {
    "colab": {},
    "colab_type": "code",
    "id": "_2745GNHj3iy"
   },
   "outputs": [
    {
     "data": {
      "image/png": "[encoded data removed]",
      "text/plain": [
       "<Figure size 432x288 with 1 Axes>"
      ]
     },
     "metadata": {
      "needs_background": "light"
     },
     "output_type": "display_data"
    }
   ],
   "source": [
    "#Constants\n",
    "N_x =10         #usikker på hvordan det blir når N_x blir endret \n",
    "N_p = 3600 #40*N_x fra forrige oppg. (se presisering)\n",
    "alpha = 0.8\n",
    "jumps=2\n",
    "\n",
    "\n",
    "@jit(nopython=True)\n",
    "def V_sawtooth(x, alpha): \n",
    "    #V_1(x) from the task-description\n",
    "    if not (-(1-alpha)*N_x < x <= alpha*N_x): \n",
    "        x = x+N_x #periodicity of the function\n",
    "    if (0 < x <= alpha*N_x):\n",
    "        return x/(alpha*N_x) \n",
    "    else:\n",
    "        return -1*(x/((1-alpha)*N_x))\n",
    "\n",
    "\n",
    "\n",
    "#Plotter J(T_p)\n",
    "T_p_values2 = np.linspace(80,1500,20)\n",
    "plt.plot(T_p_values2, avg_current_vs_time(T_p_values2))\n",
    "plt.plot(T_p_values2,J_avg_an(alpha,T_p_values2))\n",
    "plt.show()"
   ]
  },
  {
   "cell_type": "markdown",
   "metadata": {
    "colab_type": "text",
    "id": "ohawrMUcj4FB"
   },
   "source": [
    "## Programming exercise 6.3"
   ]
  },
  {
   "cell_type": "code",
   "execution_count": null,
   "metadata": {
    "colab": {},
    "colab_type": "code",
    "id": "KfJuOWuBj5Mc"
   },
   "outputs": [],
   "source": [
    "#Plotter J(alpha)\n",
    "N_x=90  #Må sette den tilbake til 90 ettersom N_x=10 i forrige opg.\n",
    "N_p = 1080 #12*N_x\n",
    "T_p = 500\n",
    "jumps = 2\n",
    "beta_and_k = [0.01, 1, 2, 3, 5, 10]\n",
    "\n",
    "N = 50\n",
    "dalpha = 1/(N+1)\n",
    "alpha_values = np.array([n*dalpha for n in range(1,N+1)])\n",
    "for i in range(len(beta_and_k)):\n",
    "    plt.plot(alpha_values, avg_current_vs_alpha(alpha_values, beta_and_k[i]))\n",
    "    plt.plot(alpha_values, J_avg_an(alpha_values,T_p))\n",
    "    plt.show()"
   ]
  },
  {
   "cell_type": "markdown",
   "metadata": {
    "colab_type": "text",
    "id": "Xi7rUAvTj6E7"
   },
   "source": [
    "## Exercise 6.4"
   ]
  },
  {
   "cell_type": "code",
   "execution_count": null,
   "metadata": {
    "colab": {},
    "colab_type": "code",
    "id": "MTy4rx1oj82A"
   },
   "outputs": [],
   "source": []
  }
 ],
 "metadata": {
  "colab": {
   "collapsed_sections": [],
   "name": "Vitber_prosjekt1.ipynb",
   "provenance": []
  },
  "kernelspec": {
   "display_name": "Python 3",
   "language": "python",
   "name": "python3"
  },
  "language_info": {
   "codemirror_mode": {
    "name": "ipython",
    "version": 3
   },
   "file_extension": ".py",
   "mimetype": "text/x-python",
   "name": "python",
   "nbconvert_exporter": "python",
   "pygments_lexer": "ipython3",
   "version": "3.7.3"
  }
 },
 "nbformat": 4,
 "nbformat_minor": 1
}
