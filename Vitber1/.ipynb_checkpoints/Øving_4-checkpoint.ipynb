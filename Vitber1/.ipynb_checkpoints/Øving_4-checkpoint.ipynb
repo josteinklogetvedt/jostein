{
 "cells": [
  {
   "cell_type": "markdown",
   "metadata": {},
   "source": [
    "# Øving 4 - TMA4320\n",
    "* **Veiledning:** Torsdag 13. februar, 2020, 0815-1000 i H3\n",
    "* **Innleveringsfrist:** Torsdag 20. februar, 2020, kl 1400\n",
    "* **Innleveringsmetode** Følgende to krav er nødvendig for godkjenning\n",
    "    1. Opplasting av Jupyter Notebook (individuelt) i Blackboard\n",
    "    2. Svare på Blackboardskjema for de tre kontrollspørsmålene i øvingen\n",
    "\n",
    "Denne øvingen dreier seg om numerisk integrasjon. Ta en kopi av denne Notebook'en og fyll inn dine svar. Ta quizen i Bb.\n",
    "\n",
    "**Oppgave 1**\n",
    "Vi ser i første omgang på en numerisk integrasjonsformel på intervallet $[0,1]$ av formen\n",
    "\n",
    "$$\n",
    "    Q[f] = s\\left(f(1)-f(0)\\right) + b f(\\alpha) \n",
    "$$\n",
    "\n",
    "der $s$, $b$ og $\\alpha$ er parametre som kan velges.\n",
    "\n",
    "\n",
    "<div class=\"alert alert-block alert-success\">\n",
    "**Oppgave 1a.**\n",
    "Finn verdier for $s$, $b$ og $\\alpha$ som gjør at formelen får høyest mulig presisjonsgrad.\n",
    "</div>\n",
    "$b=1$. \n",
    "Hvis $s= \\frac{1}{\\sqrt{12}}$ så er $\\alpha= \\frac{3-\\sqrt{3}}{6}$\n",
    "Hvis $s= \\frac{-1}{\\sqrt{12}}$ så er $\\alpha= \\frac{3+\\sqrt{3}}{6}$"
   ]
  },
  {
   "cell_type": "markdown",
   "metadata": {},
   "source": [
    "**Kontrollspørsmål 1:**\n",
    "Hva er den største mulige presisjonsgrad?\n",
    "Svar: 2\n",
    "\n",
    "**Kontrollspørsmål 2:** Det fins to løsninger for $\\alpha$, hva er verdien av den minste av disse?\n",
    "Svar: Den minste $\\alpha = \\frac{3-\\sqrt{3}}{6}$.\n",
    "\n"
   ]
  },
  {
   "cell_type": "markdown",
   "metadata": {},
   "source": [
    "Vi modifiserer nå formelen ved å transformere den til intervallet $[x_k,x_k+h]$.\n",
    "Et lineært variabelskifte, $x=x_k+th$, gir oss\n",
    "\n",
    "$$\n",
    "  \\int_{x_k}^{x_k+h}f(x)\\,dx = h\\int_0^1 f(x_k+th)\\,dt \n",
    "$$\n",
    "\n",
    "som gir den modifiserte formelen\n",
    "\n",
    "$$\n",
    "     Q_{[x_k,x_k+h]}[f] = h\\big(s(f(x_k+h)-f(x_k)) + b f(x_k+\\alpha h)\\big)\n",
    "$$\n",
    "\n",
    "Neste skritt er å lage en sammensatt formel; definer $x_k=a+kh$ der $h=\\frac{b-a}{n}$ og $n$ er antall intervaller. Vi kan nå lage den sammensatte formelen\n",
    "\n",
    "$$\n",
    "  \\bar{Q}_n[f] = \\sum_{k=0}^{n-1} Q_{[x_k,x_k+h]}[f]\n",
    "$$\n",
    "\n",
    "<div class=\"alert alert-block alert-success\">\n",
    "**Oppgave 1b.** Skriv opp formelen for $\\bar{Q}_n[f]$ med de verdiene du har funnet for parametrene $b, \\alpha, s$ i forrige oppgave.\n",
    "</div>\n",
    "\n",
    "Formel: \n",
    "$$\n",
    "  \\bar{Q}_n[f] = \\sum_{k=0}^{n-1} h(\\frac{1}{\\sqrt{12}}(f(x_k+h)-f(x_k))+f(x_k+\\frac{3-\\sqrt{3}}{6}h))\n",
    "$$"
   ]
  },
  {
   "cell_type": "markdown",
   "metadata": {},
   "source": [
    "**Kontrollspørsmål 3:**\n",
    "Hvor mange funksjonsevalueringer (beregninger av $f(x)$) trenger man med $n$ intervaller?\n",
    "Svar: Det blir $n+2$ funksjonsevalueringer. \n"
   ]
  },
  {
   "cell_type": "markdown",
   "metadata": {},
   "source": [
    "<div class=\"alert alert-block alert-success\">\n",
    "**Oppgave 1c.**\n",
    "Implementer metoden i Python. Anvend den på integralet\n",
    "\n",
    "$$\n",
    "I =   \\int_{-2}^2 \\frac{\\sin x}{x}\\,dx\n",
    "$$\n",
    "\n",
    "med $n=4,8,16,32,64,128$ og sammenlign svaret med sammensatt trapesmetode med samme antall intervaller.\n",
    "Husk unntaksbehandling av $x=0$ (spesielt relevant for trapes).\n",
    "</div>"
   ]
  },
  {
   "cell_type": "markdown",
   "metadata": {},
   "source": [
    "Fyll inn koden i cellen nedenfor"
   ]
  },
  {
   "cell_type": "code",
   "execution_count": 4,
   "metadata": {},
   "outputs": [
    {
     "name": "stdout",
     "output_type": "stream",
     "text": [
      "Med Teleformelen (c=1):\n",
      "4  intervaller  \t 3.210713856057495\n",
      "8  intervaller  \t 3.2108190605037894\n",
      "16  intervaller  \t 3.2108255245190644\n",
      "32  intervaller  \t 3.210825926814439\n",
      "64  intervaller  \t 3.2108259519313753\n",
      "128  intervaller  \t 3.210825953500772\n",
      "256  intervaller  \t 3.210825953598853\n",
      "\n",
      " Med Teleformelen (c=-1):\n",
      "4  intervaller  \t 3.2107138560574944\n",
      "8  intervaller  \t 3.2108190605037894\n",
      "16  intervaller  \t 3.2108255245190636\n",
      "32  intervaller  \t 3.2108259268144383\n",
      "64  intervaller  \t 3.2108259519313753\n",
      "128  intervaller  \t 3.2108259535007715\n",
      "256  intervaller  \t 3.210825953598852\n",
      "\n",
      " Med Trapesmetoden:\n",
      "4  intervaller  \t 3.137590683028634\n",
      "8  intervaller  \t 3.1926430764587597\n",
      "16  intervaller  \t 3.2062879864601985\n",
      "32  intervaller  \t 3.2096919445007956\n",
      "64  intervaller  \t 3.2105424814684316\n",
      "128  intervaller  \t 3.2107550874544053\n",
      "256  intervaller  \t 3.210808237185341\n"
     ]
    }
   ],
   "source": [
    "import numpy as np\n",
    "beta=1\n",
    "na=[4,8,16,32,64,128,256]\n",
    "\n",
    "def f(x):\n",
    "    return np.sin(x)/x\n",
    "    \n",
    "#Vet at grensen x->0 i f(x)=1.\n",
    "def teleformula(f,a,b,n,c):\n",
    "    '''Beregner approksimasjon til I basert på formelen utledet i denne oppgaven\n",
    "    f: integranden\n",
    "    a,b: Intervallgrenser\n",
    "    n: Antall intervaller\n",
    "    c: skal være 1 eller -1 og velger hvilken av de to metodene med presisjonsgrad 2 \n",
    "        som skal brukes\n",
    "    '''\n",
    "    h = (b-a)/n\n",
    "    integral = 0\n",
    "    if c==1:\n",
    "        s=1/np.sqrt(12)       \n",
    "        alpha=(3-np.sqrt(3))/6\n",
    "    else:\n",
    "        s= -1/np.sqrt(12)       \n",
    "        alpha=(3+np.sqrt(3))/6\n",
    "    for k in range(n):\n",
    "        x_k = a + k*h\n",
    "        if x_k ==0:\n",
    "            integral += h*(s*(f(x_k+h)-1)+beta*f(x_k+alpha*h))\n",
    "        elif x_k + h ==0:\n",
    "            integral += h*(s*(1-f(x_k))+beta*f(x_k+alpha*h))\n",
    "        elif x_k+alpha*h==0:\n",
    "            integral += h*(s*(f(x_k+h)-f(x_k))+beta)\n",
    "        else:\n",
    "            integral += h*(s*(f(x_k+h)-f(x_k))+beta*f(x_k+alpha*h))\n",
    "    return integral\n",
    "\n",
    "print(\"Med Teleformelen (c=1):\")\n",
    "for n in na:\n",
    "    print(n, \" intervaller\", \" \\t\", teleformula(f,-2,2,n,1))\n",
    "    \n",
    "print(\"\\n Med Teleformelen (c=-1):\")\n",
    "for n in na:\n",
    "    print(n, \" intervaller\", \" \\t\", teleformula(f,-2,2,n,-1))\n",
    "    \n",
    "def trapesformula(f,a,b,n):\n",
    "    '''For sammenligning implementer sammensatt trapes her'''\n",
    "    h = (b-a)/n\n",
    "    integral = f(a)+f(b)\n",
    "    for i in range(1,n):\n",
    "        x_i = a+i*h\n",
    "        if x_i ==0:\n",
    "            integral += 2*1\n",
    "        else:\n",
    "            integral += 2*f(x_i)\n",
    "    return h*integral/2\n",
    "    \n",
    "\n",
    "print(\"\\n Med Trapesmetoden:\")\n",
    "for n in na:\n",
    "    print(n, \" intervaller\", \" \\t\", trapesformula(f,-2,2,n))\n",
    "    \n",
    "\n",
    "I = 3.2108259536053896972  # Har funnet 'eksakt svar' på integralet for sammenligning"
   ]
  },
  {
   "cell_type": "markdown",
   "metadata": {},
   "source": [
    "Vi ser altså her at feilen i den nye formelen oppfører seg som $C h^4$, dette skyldes at integranden er symmetrisk.\n",
    "\n",
    "**Kontrollspørsmål 4.** Fra eksperimentene kan man estimere at feilen i den nye formelen på dette problemet oppfører seg som $|I-\\bar{Q}_n[f]|\\approx C n^q$ for et heltall $q$. Bestem $q$.\n",
    "Svar: Ser ut til at $q=-5$."
   ]
  },
  {
   "cell_type": "code",
   "execution_count": 21,
   "metadata": {},
   "outputs": [
    {
     "name": "stdout",
     "output_type": "stream",
     "text": [
      "Finner feilestimat:\n",
      "0.0009765625 \t 0.00011209754789476278\n",
      "3.0517578125e-05 \t 6.893101600180529e-06\n",
      "9.5367431640625e-07 \t 4.290863251377175e-07\n",
      "2.9802322387695312e-08 \t 2.679095079116678e-08\n",
      "9.313225746154785e-10 \t 1.6740142605442543e-09\n",
      "2.9103830456733704e-11 \t 1.0461764787805805e-10\n",
      "9.094947017729282e-13 \t 6.536549079783072e-12\n"
     ]
    }
   ],
   "source": [
    "print(\"Finner feilestimat:\")\n",
    "for n in na:\n",
    "    deviation = I-teleformula(f,-2,2,n,1)\n",
    "    print(n**(-5), \"\\t\", deviation)"
   ]
  },
  {
   "cell_type": "code",
   "execution_count": null,
   "metadata": {},
   "outputs": [],
   "source": []
  }
 ],
 "metadata": {
  "kernelspec": {
   "display_name": "Python 3",
   "language": "python",
   "name": "python3"
  },
  "language_info": {
   "codemirror_mode": {
    "name": "ipython",
    "version": 3
   },
   "file_extension": ".py",
   "mimetype": "text/x-python",
   "name": "python",
   "nbconvert_exporter": "python",
   "pygments_lexer": "ipython3",
   "version": "3.7.3"
  },
  "toc": {
   "base_numbering": 1,
   "nav_menu": {},
   "number_sections": true,
   "sideBar": true,
   "skip_h1_title": true,
   "title_cell": "Table of Contents",
   "title_sidebar": "Contents",
   "toc_cell": false,
   "toc_position": {},
   "toc_section_display": true,
   "toc_window_display": false
  }
 },
 "nbformat": 4,
 "nbformat_minor": 2
}
