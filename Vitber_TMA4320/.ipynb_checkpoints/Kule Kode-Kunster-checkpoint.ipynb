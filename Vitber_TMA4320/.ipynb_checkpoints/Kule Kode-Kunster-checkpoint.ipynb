{
 "cells": [
  {
   "cell_type": "markdown",
   "metadata": {},
   "source": [
    "## Kule Kode-Kunster\n",
    "\n",
    "For å gjøre livet enklere og bedre.\n",
    "\n",
    "\n",
    "\n",
    "### TQDM:\n",
    "Skal du kjøre en lang loop? Ville det vært fint å se hvor langt loopen har kommet? Da er TQDM perfekt! Det er en vanlig versjon, og en spesialversjon for notebook.\n",
    "\n",
    "NB: For å instalere python-pakker til jupyter, må du bruke \"anaconda prompt\" (for windows, vet ikke for mac)\n"
   ]
  },
  {
   "cell_type": "markdown",
   "metadata": {},
   "source": [
    "![FinnePrompt](https://i.imgur.com/IcNg5ph.png)"
   ]
  },
  {
   "cell_type": "code",
   "execution_count": 2,
   "metadata": {},
   "outputs": [
    {
     "data": {
      "application/vnd.jupyter.widget-view+json": {
       "model_id": "e0a76f8d5d154319b544aa12547f0371",
       "version_major": 2,
       "version_minor": 0
      },
      "text/plain": [
       "HBox(children=(IntProgress(value=0, max=99), HTML(value='')))"
      ]
     },
     "metadata": {},
     "output_type": "display_data"
    },
    {
     "name": "stdout",
     "output_type": "stream",
     "text": [
      "\n"
     ]
    }
   ],
   "source": [
    "# Husk å instalere tqdm med pip. Husk også at dette må gjøres i en egen terminal spesifiik for Jupyter...\n",
    "# Det blir kanskje litt komplisert, men kanskje du får det til! Om du ikke gjør det, bare slett dette for at ting skal kjøre.\n",
    "\n",
    "# Her kan du bruke tqdm.notebook\n",
    "from tqdm.notebook import tqdm\n",
    "# Eller den vanlige tqdm\n",
    "# from tqdm import tqdm\n",
    "\n",
    "import time\n",
    "\n",
    "# Du har en eller annen liste\n",
    "en_eller_annen_liste = range(1,100)\n",
    "\n",
    "# Så har du en loop\n",
    "for x in en_eller_annen_liste:\n",
    "    do_something = None\n",
    "\n",
    "# For å bruke TQDM, så putter du listen din inn i tqdm funskjonen:\n",
    "for x in tqdm(en_eller_annen_liste):\n",
    "    # Her venter vi bare litt\n",
    "    time.sleep(0.01)\n",
    "\n",
    "# Så blir alt pent!"
   ]
  },
  {
   "cell_type": "code",
   "execution_count": 2,
   "metadata": {},
   "outputs": [
    {
     "data": {
      "text/plain": [
       "<Figure size 200x200 with 0 Axes>"
      ]
     },
     "execution_count": 2,
     "metadata": {},
     "output_type": "execute_result"
    }
   ],
   "source": [
    "# Oppsett til neste del, bare ignorer dette\n",
    "import numpy as np\n",
    "from matplotlib import pyplot as plt\n",
    "#%matplotlib notebook\n",
    "plt.figure(figsize=(2,2))\n"
   ]
  },
  {
   "cell_type": "markdown",
   "metadata": {},
   "source": [
    "### Fler-dels-funksjon\n",
    "\n",
    "Vi vet forhåpentlig vis at for å få kode til å kjøre rask, vil vi unngå \"for\" løkker. Men det er ikke alltid så lett.\n",
    "\n",
    "Kanskje vi har en eller annen helt tilfeldig potensial-funksjon som enten skal gå oppover eller nedover avhengig av x-verdien?\n",
    "Da er det veldig fristende å lage noe slikt:    "
   ]
  },
  {
   "cell_type": "code",
   "execution_count": 3,
   "metadata": {},
   "outputs": [],
   "source": [
    "# Modifisert eksempelkode fra en gruppe\n",
    "\n",
    "alpha = 0.8\n",
    "\n",
    "# (x er endret)\n",
    "def V_1(x):    \n",
    "    if 0 < x <= alpha * N_x:\n",
    "        return x / (alpha*N_x)\n",
    "    \n",
    "    elif -(1-alpha) * N_x < x <= 0:\n",
    "        return -x / ((1-alpha)*N_x)"
   ]
  },
  {
   "cell_type": "markdown",
   "metadata": {},
   "source": [
    "Men problemet her er at dersom man har lyst til å kjøre denne på en liste med mange x (Som er det som går veldig raskt), så klarer ikke np å håndtere if og else:"
   ]
  },
  {
   "cell_type": "code",
   "execution_count": 4,
   "metadata": {},
   "outputs": [
    {
     "name": "stdout",
     "output_type": "stream",
     "text": [
      "Error: The truth value of an array with more than one element is ambiguous. Use a.any() or a.all()\n"
     ]
    }
   ],
   "source": [
    "x = np.linspace(0,10,100)\n",
    "try:\n",
    "    potential = V_1(x)\n",
    "except ValueError as e:\n",
    "    print(f\"Error: {e}\")"
   ]
  },
  {
   "cell_type": "markdown",
   "metadata": {},
   "source": [
    "Det er en måte å komme seg rundt slike problem på! Det finnes sikkert bedre metoder, men dette er en mulighet.\n",
    "\n",
    "Man lager noen slags av-og-på-lister. Lister som er like lange som x-en din, og som er enten 1 eller 0.\n",
    "\n",
    "La oss si at du har to funksjoner $f_1$ og $f_2$ som skal brukes alternerende.\n",
    "\n",
    "Om vi klarer å lage to lister som ser slik ut:\n",
    "\n",
    "$$\n",
    "z_1 = [0,0,0,0,1,1,1,1,0,0,0,0]\n",
    "$$$$\n",
    "z_2 = [1,1,1,1,0,0,0,0,1,1,1,1]\n",
    "$$\n",
    "\n",
    "Så kan vi jo la\n",
    "\n",
    "$$\n",
    "f = f_1 \\times z_1 + f_2 \\times z_2 = [f_2,f_2,f_2,f_2,f_1,f_1,f_1,f_1,f_2,f_2,f_2,f_2]\n",
    "$$"
   ]
  },
  {
   "cell_type": "markdown",
   "metadata": {},
   "source": [
    "Dette er hovedtanken bak slike sammensatte funksjoner. Problemet er da å lage $z$-ene. La oss se om vi klarer å reprodusere $z_1$ og $z_2$."
   ]
  },
  {
   "cell_type": "code",
   "execution_count": 5,
   "metadata": {},
   "outputs": [
    {
     "name": "stdout",
     "output_type": "stream",
     "text": [
      "[ 0  1  2  3  4  5  6  7  8  9 10 11]\n"
     ]
    }
   ],
   "source": [
    "# Vi starter med x\n",
    "x = np.arange(0,12)\n",
    "print(x)"
   ]
  },
  {
   "cell_type": "code",
   "execution_count": 6,
   "metadata": {},
   "outputs": [
    {
     "name": "stdout",
     "output_type": "stream",
     "text": [
      "[0 0 0 0 1 1 1 1 2 2 2 2]\n"
     ]
    }
   ],
   "source": [
    "# La oss se hva som skjer når vi bruker heltallsdivisjon...\n",
    "print(x//4)"
   ]
  },
  {
   "cell_type": "code",
   "execution_count": 7,
   "metadata": {},
   "outputs": [
    {
     "name": "stdout",
     "output_type": "stream",
     "text": [
      "[0 0 0 0 1 1 1 1 0 0 0 0]\n"
     ]
    }
   ],
   "source": [
    "# hmm... dette ser lovende ut...\n",
    "\n",
    "# Hva om vi ser om det er delelig på 2?\n",
    "z_1 = x//4 % 2\n",
    "print(z_1)"
   ]
  },
  {
   "cell_type": "markdown",
   "metadata": {},
   "source": [
    "Da klarte vi å lage $z_1$! Og for $z_2$ er det ganske enkelt:"
   ]
  },
  {
   "cell_type": "code",
   "execution_count": 8,
   "metadata": {},
   "outputs": [
    {
     "name": "stdout",
     "output_type": "stream",
     "text": [
      "[1 1 1 1 0 0 0 0 1 1 1 1]\n"
     ]
    }
   ],
   "source": [
    "z_2 = 1-z_1\n",
    "print(z_2)"
   ]
  },
  {
   "cell_type": "markdown",
   "metadata": {},
   "source": [
    "Dette er jo kanskje det enkleste tilfellet, og det er ikke altid så enkelt. La oss se på den situasjonen vi hadde i prosjektet.\n",
    "\n",
    "Da hadde vi en x med positive og negative flyt-tall"
   ]
  },
  {
   "cell_type": "code",
   "execution_count": 9,
   "metadata": {},
   "outputs": [
    {
     "name": "stdout",
     "output_type": "stream",
     "text": [
      "[-90.   -89.82 -89.64 ...  89.64  89.82  90.  ]\n"
     ]
    }
   ],
   "source": [
    "N_x = 90\n",
    "x = np.linspace(-N_x,N_x,1001)\n",
    "print(x)"
   ]
  },
  {
   "cell_type": "markdown",
   "metadata": {},
   "source": [
    "Og så hadde vi en potensial funksjon som skulle se ut som en sag-tann med en bestemt alpha:\n",
    "![PotensialFunksjon](https://i.imgur.com/iXHNmhj.png)"
   ]
  },
  {
   "cell_type": "markdown",
   "metadata": {},
   "source": [
    "Vi ser at vi trenger to forskjellige funksjoner, så vi kaller de f1 og f2"
   ]
  },
  {
   "cell_type": "code",
   "execution_count": 10,
   "metadata": {},
   "outputs": [],
   "source": [
    "k=1\n",
    "alpha = 0.8\n",
    "\n",
    "def f1(x):\n",
    "    return k * (x / (alpha * N_x))\n",
    "\n",
    "def f2(x):\n",
    "    return -k * (x / ( (1-alpha) * N_x))"
   ]
  },
  {
   "cell_type": "markdown",
   "metadata": {},
   "source": [
    "Nå kommer den vanskelige delen igjen: å lage $z_1$ og $z_2$\n",
    "\n",
    "Vi ser at potensialet skal bestemmes med f1 når $0 < x \\leq \\alpha N_x$, så la oss lage en liste som er en når dette er sant, og null ellers."
   ]
  },
  {
   "cell_type": "code",
   "execution_count": 11,
   "metadata": {},
   "outputs": [
    {
     "data": {
      "image/png": "[encoded data removed]",
      "text/plain": [
       "<Figure size 432x288 with 1 Axes>"
      ]
     },
     "metadata": {
      "needs_background": "light"
     },
     "output_type": "display_data"
    }
   ],
   "source": [
    "# Vi prøver med heltallsdivisjon og ser hva som skjer!\n",
    "z_1 = x//(alpha*N_x)\n",
    "\n",
    "# Litt mange tall for å bare printe...\n",
    "plt.plot(x,z_1)\n",
    "plt.show()"
   ]
  },
  {
   "cell_type": "markdown",
   "metadata": {},
   "source": [
    "Hmm... Hva skal vi gjøre med dette da? Den delen vi har lyst til å ha er jo den dele som er null!\n",
    "Men legg merke til at det er _kun_ det vi vil ha som er null, og det er ganske fint. Så nå er det bare å trikse litt."
   ]
  },
  {
   "cell_type": "code",
   "execution_count": 12,
   "metadata": {},
   "outputs": [
    {
     "data": {
      "image/png": "[encoded data removed]",
      "text/plain": [
       "<Figure size 432x288 with 1 Axes>"
      ]
     },
     "metadata": {
      "needs_background": "light"
     },
     "output_type": "display_data"
    }
   ],
   "source": [
    "# Først tar vi abs\n",
    "plt.plot(x,abs(z_1))\n",
    "plt.show()"
   ]
  },
  {
   "cell_type": "code",
   "execution_count": 13,
   "metadata": {},
   "outputs": [
    {
     "data": {
      "image/png": "[encoded data removed]",
      "text/plain": [
       "<Figure size 432x288 with 1 Axes>"
      ]
     },
     "metadata": {
      "needs_background": "light"
     },
     "output_type": "display_data"
    }
   ],
   "source": [
    "# Så bruker vi np.clip slik at vi bare får verdier 0 og 1\n",
    "plt.plot(x, np.clip(abs(z_1),0,1))\n",
    "plt.show()"
   ]
  },
  {
   "cell_type": "code",
   "execution_count": 14,
   "metadata": {},
   "outputs": [
    {
     "data": {
      "image/png": "[encoded data removed]",
      "text/plain": [
       "<Figure size 432x288 with 1 Axes>"
      ]
     },
     "metadata": {
      "needs_background": "light"
     },
     "output_type": "display_data"
    }
   ],
   "source": [
    "# Og helt til slutt, bytter vi om på 1 og 0\n",
    "def z_1(x):\n",
    "    return 1 - np.clip(abs(x//(alpha*N_x)),0,1)\n",
    "plt.plot(x, z_1(x))\n",
    "plt.show()"
   ]
  },
  {
   "cell_type": "markdown",
   "metadata": {},
   "source": [
    "For å så finne $z_2$, så er det vel bare å la $z_2=1-z_1$, og da er vi klar til å lage funksjonen? Vi får se..."
   ]
  },
  {
   "cell_type": "code",
   "execution_count": 15,
   "metadata": {},
   "outputs": [
    {
     "data": {
      "image/png": "[encoded data removed]",
      "text/plain": [
       "<Figure size 432x288 with 1 Axes>"
      ]
     },
     "metadata": {
      "needs_background": "light"
     },
     "output_type": "display_data"
    }
   ],
   "source": [
    "def z_2(x):\n",
    "    return 1 - z_1(x)\n",
    "\n",
    "def V(x):\n",
    "    return f1(x) * z_1(x) + f2(x) * z_2(x)\n",
    "\n",
    "plt.plot(x,V(x))\n",
    "plt.show()"
   ]
  },
  {
   "cell_type": "markdown",
   "metadata": {},
   "source": [
    "Her er det flere problem... For det første så har jeg glemt at potensialet er periodisk over (0,N_x) ikke (-N_x,N_x),\n",
    "og for det andre, så er f2 feil. Vi ser på det første problemtet først.\n",
    "\n",
    "Å gjøre x periodisk over (0,N_x) er heldigvis enkelt:"
   ]
  },
  {
   "cell_type": "code",
   "execution_count": 16,
   "metadata": {},
   "outputs": [
    {
     "data": {
      "image/png": "[encoded data removed]",
      "text/plain": [
       "<Figure size 432x288 with 1 Axes>"
      ]
     },
     "metadata": {
      "needs_background": "light"
     },
     "output_type": "display_data"
    }
   ],
   "source": [
    "def periodisk_V(x):\n",
    "    periodisk_x = x%N_x\n",
    "    return V(periodisk_x)\n",
    "\n",
    "plt.plot(x, periodisk_V(x))\n",
    "plt.show()"
   ]
  },
  {
   "cell_type": "markdown",
   "metadata": {},
   "source": [
    "Nå begynner det å ligne på noe! Men vi har fremdeles problem med f2. Grunnen til at f2 er feil, er at nå som x er periodisk, vil vi havne i et annet domene enn det vi var i før. f2 var definert for negative tall, men nå er alt positivt på grunn av x=x%N_x."
   ]
  },
  {
   "cell_type": "code",
   "execution_count": 17,
   "metadata": {},
   "outputs": [
    {
     "data": {
      "image/png": "[encoded data removed]",
      "text/plain": [
       "<Figure size 432x288 with 1 Axes>"
      ]
     },
     "metadata": {
      "needs_background": "light"
     },
     "output_type": "display_data"
    }
   ],
   "source": [
    "\"\"\"\n",
    "Gammel f2 til sammenligning:\n",
    "\n",
    "def f2(x):\n",
    "    return -k * (x / ( (1-alpha) * N_x))\n",
    "\"\"\"\n",
    "\n",
    "def f2(x):\n",
    "    return k * (N_x -x) / ((1-alpha) * N_x)\n",
    "\n",
    "plt.plot(x, periodisk_V(x))\n",
    "plt.show()"
   ]
  },
  {
   "cell_type": "markdown",
   "metadata": {},
   "source": [
    "Om vi kombinerer alt sammen, får vi da denne funksjonen"
   ]
  },
  {
   "cell_type": "code",
   "execution_count": 18,
   "metadata": {},
   "outputs": [
    {
     "data": {
      "image/png": "[encoded data removed]",
      "text/plain": [
       "<Figure size 432x288 with 1 Axes>"
      ]
     },
     "metadata": {
      "needs_background": "light"
     },
     "output_type": "display_data"
    }
   ],
   "source": [
    "def V(x):\n",
    "        # x er periodisk\n",
    "        x = x % N_x\n",
    "        \n",
    "        # 1 når vi vil ha f1, 0 ellers\n",
    "        z1 = 1 - np.clip(abs(x//(alpha*N_x)),0,1)\n",
    "        # Motsatt av z1\n",
    "        z2 = 1 - z1 \n",
    "        \n",
    "        # Dette er en kul måte å lage funksjoner på, men de er nøyaktig like til de game f1 og f2\n",
    "        f1 = lambda x: k * x / (alpha * N_x)\n",
    "\n",
    "        # Endret fra -k*x/((1-alpha)*N_x) pga. ny domene\n",
    "        f2 = lambda x: k * (N_x -x) / ((1-alpha) * N_x)\n",
    "\n",
    "        return z1 * f1(x) + z2 * f2(x)\n",
    "\n",
    "# Vi lager noen nye verdier slik at vi ser at funksjonen faktisk fungerer generelt\n",
    "N_x = 100\n",
    "k=1\n",
    "alphas = [0.2, 0.4, 0.6, 0.8]\n",
    "x = np.linspace(-N_x,N_x,10000)\n",
    "\n",
    "for a in alphas:\n",
    "    # Her er alpha en global variabel, så dette er nødvendig\n",
    "    alpha = a\n",
    "    plt.plot(x,V(x))\n",
    "    \n",
    "plt.show()"
   ]
  },
  {
   "cell_type": "code",
   "execution_count": null,
   "metadata": {},
   "outputs": [],
   "source": []
  }
 ],
 "metadata": {
  "kernelspec": {
   "display_name": "Python 3",
   "language": "python",
   "name": "python3"
  },
  "language_info": {
   "codemirror_mode": {
    "name": "ipython",
    "version": 3
   },
   "file_extension": ".py",
   "mimetype": "text/x-python",
   "name": "python",
   "nbconvert_exporter": "python",
   "pygments_lexer": "ipython3",
   "version": "3.7.3"
  }
 },
 "nbformat": 4,
 "nbformat_minor": 2
}
