{
 "cells": [
  {
   "cell_type": "markdown",
   "metadata": {},
   "source": [
    "# Noen tips og tricks med NUMPY\n",
    "\n",
    "Vi skal her gå gjennom noen kommandoer i Numpy som kan være nyttige i Prosjekt 2.\n",
    "\n",
    "Når man regner med matriser og vektorer er det numpy arrays som gjelder. De er enkle å opprette og å sette av plass til, og regneoperasjoner kan gjøres på et relativt høyt nivå, dvs få programmeringslinjer. \n",
    "For eksempel er det sjelden vi trenger å lage for-løkker for å løpe gjennom alle indeksene i en matrise, det fins gjerne kommandoer som utfører den operasjonen vi trenger, for eksempel som å multiplisere matriser.\n",
    "Det gjelder bare å vite om hva slags kommandoer man skal bruke. Vi begynner enkelt med noe som de aller fleste sikkert kjenner godt til allerede, og illustrerer alt gjennom eksempler"
   ]
  },
  {
   "cell_type": "code",
   "execution_count": 1,
   "metadata": {},
   "outputs": [
    {
     "name": "stdout",
     "output_type": "stream",
     "text": [
      "v= [1 2 3] \n",
      "\n",
      "A=\n",
      " [[1 2 3]\n",
      " [2 3 4]\n",
      " [3 4 5]]\n",
      "\n",
      "B=\n",
      " [[ 1  1  1]\n",
      " [ 1 -1  1]\n",
      " [ 1 -1 -1]]\n"
     ]
    }
   ],
   "source": [
    "import numpy as np\n",
    "\n",
    "# Lag en gitt vektor med 3 komponenter\n",
    "v = np.array([1,2,3])\n",
    "print('v=',v,'\\n')\n",
    "\n",
    "# Så lager vi en 3x3-matrise A\n",
    "A = np.array([[1,2,3],[2,3,4],[3,4,5]])\n",
    "print('A=\\n',A)\n",
    "# La oss også lage en matrise B \n",
    "B = np.array([[1,1,1],[1,-1,1],[1,-1,-1]])\n",
    "print('\\nB=\\n',B)\n"
   ]
  },
  {
   "cell_type": "markdown",
   "metadata": {},
   "source": [
    "Vi kan gange sammen matrise med vektor, og matrise med matrise ved å bruke @ (vanlig matrise-multiplikasjon)"
   ]
  },
  {
   "cell_type": "code",
   "execution_count": 9,
   "metadata": {},
   "outputs": [
    {
     "name": "stdout",
     "output_type": "stream",
     "text": [
      "[14 20 26] \n",
      "\n",
      "[[ 6 -4  0]\n",
      " [ 9 -5  1]\n",
      " [12 -6  2]]\n"
     ]
    }
   ],
   "source": [
    "w=A @ v\n",
    "print(w,'\\n')\n",
    "\n",
    "C = A @ B\n",
    "print(C)"
   ]
  },
  {
   "cell_type": "markdown",
   "metadata": {},
   "source": [
    "Vi kan også beregne elementvis produkt av matriser eller vektorer, det såkalte Hadamard-produktet $A\\odot B$"
   ]
  },
  {
   "cell_type": "code",
   "execution_count": 15,
   "metadata": {},
   "outputs": [
    {
     "name": "stdout",
     "output_type": "stream",
     "text": [
      "[[ 1  2  3]\n",
      " [ 2 -3  4]\n",
      " [ 3 -4 -5]] \n",
      "\n",
      "[[ 1  2  3]\n",
      " [ 2 -3  4]\n",
      " [ 3 -4 -5]]\n"
     ]
    }
   ],
   "source": [
    "AB = A*B\n",
    "print(AB,'\\n')\n",
    "\n",
    "# Det samme kunne vært gjort med np.multiply som er ekvivalent\n",
    "print(np.multiply(A,B))"
   ]
  },
  {
   "cell_type": "markdown",
   "metadata": {},
   "source": [
    "Det samme prinsippet gjelder med divisjon, både / og np.divide skal fungere, men pass på at det med $A/B$ ikke fins 0-elementer i $B$."
   ]
  },
  {
   "cell_type": "markdown",
   "metadata": {},
   "source": [
    "**Sette av plass til matriser.** I prosjektet skal vi bruke samlinger av matriser for eksempel $W_k,\\ k=0,\\ldots,K$ som alle har dimensjon $d\\times d$. En måte å gjøre dette på er å definere et 3-dimensjonalt numpy-array, det vil si et array med tre indekser. Den første kan være for $k$, og de to andre for matrise-elementene i matrise nr $k$. Vi må allokere plass i minnet til dette numpy-arrayet, og det kan gjøres på flere måter. En måte er å lage et array $W$ som vi fyller initialiserer med nuller. Da er np.zeros en hendig funksjon. La oss prøve et lite eksempel med et array av typen $K \\times d \\times d$ der vi prøver $K=3$, $d=2$."
   ]
  },
  {
   "cell_type": "code",
   "execution_count": 18,
   "metadata": {},
   "outputs": [
    {
     "name": "stdout",
     "output_type": "stream",
     "text": [
      "W sin dimensjon: (3, 2, 2) \n",
      "\n",
      "W= [[[0. 0.]\n",
      "  [0. 0.]]\n",
      "\n",
      " [[0. 0.]\n",
      "  [0. 0.]]\n",
      "\n",
      " [[0. 0.]\n",
      "  [0. 0.]]]\n"
     ]
    }
   ],
   "source": [
    "K = 3\n",
    "d = 2\n",
    "W = np.zeros( (K,d,d) )\n",
    "# vi skriver først ut dimensjonen til W\n",
    "print('W sin dimensjon:',W.shape,'\\n')\n",
    "# så skriver vi ut W selv\n",
    "print('W=',W)"
   ]
  },
  {
   "cell_type": "markdown",
   "metadata": {},
   "source": [
    "Vi kan også fylle ut W med tilfeldige verdier slik vi skal gjøre i prosjektet, for eksempel etter normalfordeling"
   ]
  },
  {
   "cell_type": "code",
   "execution_count": 23,
   "metadata": {},
   "outputs": [
    {
     "name": "stdout",
     "output_type": "stream",
     "text": [
      "[[[-0.68260625 -0.2864547 ]\n",
      "  [ 0.12497256  0.05194185]]\n",
      "\n",
      " [[ 0.35675829 -1.48941953]\n",
      "  [ 0.91744306 -1.37345701]]\n",
      "\n",
      " [[ 1.45279505 -0.56885206]\n",
      "  [ 0.42048682  2.05447151]]]\n"
     ]
    }
   ],
   "source": [
    "K = 3\n",
    "d = 2\n",
    "W = np.random.randn(K,d,d)\n",
    "print(W)"
   ]
  },
  {
   "cell_type": "markdown",
   "metadata": {},
   "source": [
    "Merk forskjellen i syntaks på np.zeros og np.random.randn. Den første krever at dimensjonene står inne i en egen parentes, dvs np.zeros( (K,d,d) ), mens dette trengs ikke for np.random.rand(K,d,d).\n",
    "\n",
    "Typisk vil vi få bruk for å hente ut $W_k$ for en gitt $k$, kanskje fordi vi trenger å multiplisere den med, tja, la oss si en 2-vektor. Det er heldigvis enkelt. Nedenfor henter vi ut $W_0$ og multipliserer den med $x=[1,1]^T$"
   ]
  },
  {
   "cell_type": "code",
   "execution_count": 44,
   "metadata": {},
   "outputs": [
    {
     "name": "stdout",
     "output_type": "stream",
     "text": [
      "[[-0.68260625 -0.2864547 ]\n",
      " [ 0.12497256  0.05194185]] \n",
      "\n",
      "[-0.96906096  0.17691441]\n"
     ]
    }
   ],
   "source": [
    "x=np.array([1,1])\n",
    "k=0\n",
    "print(W[k,:,:],'\\n')\n",
    "print(W[k,:,:] @ x)"
   ]
  },
  {
   "cell_type": "markdown",
   "metadata": {},
   "source": [
    "Når vi setter inn : for en indeks så betyr det at denne indeksen løper over alle verdier, så W[0,:,:] gir ut hele matrisen $W_0$.\n"
   ]
  },
  {
   "cell_type": "markdown",
   "metadata": {},
   "source": [
    "**Ferdigdefinerte funksjoner i numpy - matriser som input**. De fleste elementære funksjoner du kan tenke deg, slik som $e^x$, $\\sin x$, $\\cos x$, $\\tan x$, $\\sinh x$ osv fins i numpy-biblioteket og kan kalles uten videre. En annen veldig nyttig egenskap ved disse er at du kan kalle dem med matriser og vektorer som input. Da fungerer de rett og slett ved at funksjonen anvendes på hvert element i matrisen/vektoren og det returneres en tilsvarende matrise. La oss teste et eksempel (og merk deg samtidig at også tallet $\\pi$ fins i numpy, som np.pi."
   ]
  },
  {
   "cell_type": "code",
   "execution_count": 34,
   "metadata": {},
   "outputs": [
    {
     "name": "stdout",
     "output_type": "stream",
     "text": [
      "A= [[3.14159265 1.57079633]\n",
      " [1.04719755 0.52359878]] \n",
      "\n",
      "sin(A)= [[1.22464680e-16 1.00000000e+00]\n",
      " [8.66025404e-01 5.00000000e-01]] \n",
      "\n",
      "tanh(A)= [[0.99627208 0.91715234]\n",
      " [0.78071444 0.48047278]]\n"
     ]
    }
   ],
   "source": [
    "A = np.array([[np.pi,np.pi/2],[np.pi/3,np.pi/6]])\n",
    "print('A=',A,'\\n')\n",
    "sinA = np.sin(A)\n",
    "print('sin(A)=',sinA,'\\n')\n",
    "tanhA = np.tanh(A)\n",
    "print('tanh(A)=',tanhA)"
   ]
  },
  {
   "cell_type": "markdown",
   "metadata": {},
   "source": [
    "**Relevante numpy-funksjoner for Prosjekt 2.**\n",
    "Vi tror at følgende funksjoner kan være nyttige å vite om\n",
    "* [numpy.transpose](https://docs.scipy.org/doc/numpy-1.17.0/reference/generated/numpy.transpose.html \"transpose of matrix\")\n",
    "* [numpy.outer](https://docs.scipy.org/doc/numpy-1.17.0/reference/generated/numpy.outer.html?highlight=outer#numpy.outer \"outer product\")\n",
    "* [numpy.random.randn](https://numpy.org/devdocs/reference/random/generated/numpy.random.randn.html \"normal distribution\")\n",
    "* [numpy.linalg.norm](https://docs.scipy.org/doc/numpy/reference/generated/numpy.linalg.norm.html \"norm\")\n",
    "* [numpy.zeros](https://docs.scipy.org/doc/numpy/reference/generated/numpy.zeros.html \"fill with zeros\")\n",
    "* [numpy.ones](https://docs.scipy.org/doc/numpy/reference/generated/numpy.ones.html \"fill with ones\")\n",
    "* [numpy.tanh](https://docs.scipy.org/doc/numpy/reference/generated/numpy.tanh.html \"tanh function\")\n",
    "\n",
    "Utover dette så kan det være greit å vite litt om plottefunksjoner i matplotlib, men dette får vi heller komme tilbake til."
   ]
  },
  {
   "cell_type": "code",
   "execution_count": null,
   "metadata": {},
   "outputs": [],
   "source": []
  }
 ],
 "metadata": {
  "kernelspec": {
   "display_name": "Python 3",
   "language": "python",
   "name": "python3"
  },
  "language_info": {
   "codemirror_mode": {
    "name": "ipython",
    "version": 3
   },
   "file_extension": ".py",
   "mimetype": "text/x-python",
   "name": "python",
   "nbconvert_exporter": "python",
   "pygments_lexer": "ipython3",
   "version": "3.7.3"
  },
  "toc": {
   "base_numbering": 1,
   "nav_menu": {},
   "number_sections": true,
   "sideBar": true,
   "skip_h1_title": true,
   "title_cell": "Table of Contents",
   "title_sidebar": "Contents",
   "toc_cell": false,
   "toc_position": {},
   "toc_section_display": true,
   "toc_window_display": false
  }
 },
 "nbformat": 4,
 "nbformat_minor": 4
}
