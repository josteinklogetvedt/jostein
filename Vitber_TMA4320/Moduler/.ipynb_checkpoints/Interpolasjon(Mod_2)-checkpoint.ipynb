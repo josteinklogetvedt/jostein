{
 "cells": [
  {
   "cell_type": "markdown",
   "metadata": {},
   "source": [
    "### Lagrange interpolasjon\n",
    "Gitt $n$ datapunkter $(x_i, y_i), i=1,...,n$ skal vi finne et polynom $P(x)$ som er av grad $n-1$ eller mindre. Man finner først kardinalfunksjonene $L_i(x)$ ved formelen\n",
    "\n",
    "$L_i(x) = \\displaystyle\\prod_{\\substack{k=1 \\\\ k \\neq i}}^{n} \\frac{x-x_k}{x_i-x_k}$,\n",
    "\n",
    "så kan man polynomet $P(x)$ ved\n",
    "\n",
    "$P(x) = \\displaystyle\\sum_{i=0}^{n} y_i L_i(x)$.\n",
    "\n",
    "Vi finner ikke her et uttrykk for polynomet $P(x)$, men tar inn en ny $x_c$-verdi der vi beregner $P(x_c)=y_c$ ved hjelp av Lagrange interpolasjon."
   ]
  },
  {
   "cell_type": "code",
   "execution_count": 29,
   "metadata": {},
   "outputs": [
    {
     "data": {
      "image/png": "[encoded data removed]",
      "text/plain": [
       "<Figure size 432x288 with 1 Axes>"
      ]
     },
     "metadata": {
      "needs_background": "light"
     },
     "output_type": "display_data"
    }
   ],
   "source": [
    "import numpy as np\n",
    "import matplotlib.pyplot as plt\n",
    "\n",
    "#Lar T = 2D matrise med [x_i, y_i], alle gitte datapunkter\n",
    "#xi er det nye datapunktet\n",
    "def interpolate(T, xi): \n",
    "  \n",
    "    # Initialize result \n",
    "    result = 0.0\n",
    "    for i in range(len(T)): \n",
    "  \n",
    "        # Compute individual terms of above formula \n",
    "        term = T[i, 1] \n",
    "        for j in range(len(T)): \n",
    "            if j != i: \n",
    "                term = term * (xi - T[j,0]) / (T[i,0] - T[j,0]) \n",
    "  \n",
    "        # Add current term to result \n",
    "        result += term \n",
    "  \n",
    "    return result \n",
    "\n",
    "def g(x):\n",
    "    return np.sin(x)\n",
    "\n",
    "def points_evenly_divided(a, b, num, g):\n",
    "    x = np.linspace(a, b, num)\n",
    "    T = np.zeros((num, 2))\n",
    "    for i in range(num):\n",
    "        T[i] = [x[i],g(x[i])]  #T = given points from function g(x)\n",
    "    return x, T\n",
    "\n",
    "def make_P(T, x_list):\n",
    "    y = np.zeros(len(x_list))\n",
    "    for i in range(len(x_list)):\n",
    "        y[i] = interpolate(T, x_list[i])\n",
    "    return y\n",
    "\n",
    "points = 5\n",
    "x, T = points_evenly_divided(-2, 2, points, g)\n",
    "plt.plot(x, T[:,1], 'bo')\n",
    "\n",
    "x_new = np.linspace(-3,3,30)\n",
    "P = make_P(T, x_new)\n",
    "\n",
    "plt.plot(x_new, P, label=\"P(x)\")\n",
    "plt.plot(x_new, g(x_new), label=\"sin(x)\")\n",
    "plt.xlabel(r\"$x$\")\n",
    "plt.legend()\n",
    "plt.show()"
   ]
  },
  {
   "cell_type": "code",
   "execution_count": null,
   "metadata": {},
   "outputs": [],
   "source": []
  }
 ],
 "metadata": {
  "kernelspec": {
   "display_name": "Python 3",
   "language": "python",
   "name": "python3"
  },
  "language_info": {
   "codemirror_mode": {
    "name": "ipython",
    "version": 3
   },
   "file_extension": ".py",
   "mimetype": "text/x-python",
   "name": "python",
   "nbconvert_exporter": "python",
   "pygments_lexer": "ipython3",
   "version": "3.7.3"
  }
 },
 "nbformat": 4,
 "nbformat_minor": 2
}
