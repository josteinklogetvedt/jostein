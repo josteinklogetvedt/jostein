{
 "cells": [
  {
   "cell_type": "markdown",
   "metadata": {},
   "source": [
    "#### Jacobi-iterasjon\n",
    "På mange måter lik fikspunktiterasjon, bare med flere likninger. Komponentvis løser man likningen \n",
    "\n",
    "$$\n",
    "\\displaystyle\n",
    "x^{(k+1)}_{i} = \\frac{1}{a_{ii}} (b_{i} - \\sum_{j=1 \\\\ j \\neq i}^{n} a_{ij}x^{(k)}_{j})\n",
    "$$ for alle $i=1,..,n$. \n",
    "\n",
    "Man kan også skrive likningen på matriseform. La $A=M-N$ der $M=diag(A)$ og $N$ er resterende av $A$. Da kan man skrive \n",
    "\n",
    "$\n",
    "x^{k+1} = M^{-1}(Nx^{k}+b).\n",
    "$\n",
    "\n",
    "Bruker stoppkriteriet $|Ax-b| < tol$."
   ]
  },
  {
   "cell_type": "code",
   "execution_count": 6,
   "metadata": {},
   "outputs": [
    {
     "name": "stdout",
     "output_type": "stream",
     "text": [
      "[ 1.99996621 -0.99996325  0.99996825] 27\n"
     ]
    }
   ],
   "source": [
    "import numpy as np\n",
    "import matplotlib.pyplot as plt\n",
    "\n",
    "def Jacobi(A, b, x0, tol):\n",
    "    n = len(b)\n",
    "    dev = 2*tol\n",
    "    x_old = x0.copy()\n",
    "    x_new = np.zeros(n)\n",
    "    count = 0\n",
    "    while dev > tol:\n",
    "        for i in range(n):\n",
    "            A_conc = np.concatenate((A[i,:i], A[i,i+1:]), axis=None)\n",
    "            x_conc = np.concatenate((x_old[:i], x_old[i+1:]), axis=None)\n",
    "            x_new[i] = (b[i] -  A_conc @ x_conc)/A[i,i]     #can't update the variables as we go\n",
    "        \n",
    "        dev = np.linalg.norm(A @ x_new - b)\n",
    "        x_old = x_new.copy()\n",
    "        count += 1\n",
    "    return x_new, count\n",
    "\n",
    "#Solution is x=[2,-1,1]\n",
    "A = np.array([[3.0,1.0,-1.0],[2.0,4.0,1.0],[-1.0,2.0,5.0]])\n",
    "b = np.array([4.0,1.0,1.0])\n",
    "x0 = np.array([0.0,0.0,0.0])\n",
    "tol = 1e-4\n",
    "\n",
    "x, count = Jacobi(A, b, x0, tol)\n",
    "print(x, count)"
   ]
  },
  {
   "cell_type": "markdown",
   "metadata": {},
   "source": [
    "#### Gauss-Seidel\n",
    "Metoden ligner veldig på Jacobi, men her oppdaterer man hver komponent man finner underveis i steget.\n",
    "Komponentvis blir ligningen seende slik ut \n",
    "\n",
    "$$\n",
    "\\displaystyle\n",
    "x^{(k+1)}_{i} = \\frac{1}{a_{ii}} (b_{i} - \\sum_{j=1}^{i-1} a_{ij}x^{(k+1)}_{j} - \\sum_{j=i+1}^{n} a_{ij}x^{(k)}_{j})\n",
    "$$ for alle $i=1,...,n$.\n",
    "\n",
    "På matriseform kan man skrive ligningen på samme måte som ved Jacobi, $A=M-N$, men her er $m_{ij}=a_{ij}$ for $i \\geq j$ og $m_{ij}=0$ for  $i<j$. Både Jacobi og Gauss-Seidel krever at $a_{ii} \\neq 0$, som kan oppnås ved å bytte om på radene."
   ]
  },
  {
   "cell_type": "code",
   "execution_count": 12,
   "metadata": {},
   "outputs": [
    {
     "name": "stdout",
     "output_type": "stream",
     "text": [
      "[ 1.99996414 -0.99997146  0.99998141] 13\n"
     ]
    }
   ],
   "source": [
    "def Gauss_Seidel(A, b, x0, tol):\n",
    "    n = len(b)\n",
    "    dev = 2*tol\n",
    "    x = x0.copy()\n",
    "    count = 0\n",
    "    while dev > tol:\n",
    "        for i in range(n):\n",
    "            A_conc = np.concatenate((A[i,:i], A[i,i+1:]), axis=None)\n",
    "            x_conc = np.concatenate((x[:i], x[i+1:]), axis=None)\n",
    "            x[i] = (b[i] -  A_conc @ x_conc)/A[i,i]     #update the variables as we go\n",
    "\n",
    "        dev = np.linalg.norm(A @ x - b)\n",
    "        count += 1\n",
    "    return x, count\n",
    "\n",
    "#Solution is x=[2,-1,1]\n",
    "A = np.array([[3.0,1.0,-1.0],[2.0,4.0,1.0],[-1.0,2.0,5.0]])\n",
    "b = np.array([4.0,1.0,1.0])\n",
    "x0 = np.array([0.0,0.0,0.0])\n",
    "tol = 1e-4\n",
    "\n",
    "x, count = Gauss_Seidel(A, b, x0, tol)\n",
    "print(x, count)"
   ]
  },
  {
   "cell_type": "markdown",
   "metadata": {},
   "source": [
    "#### Suksessiv overrakselerasjon (SOR)\n",
    "\n",
    "Bruker parameteren $1 < \\omega < 2$ for å akselerere konvergens.\n",
    "På komponentform blir likningen\n",
    "\n",
    "$$\n",
    "x^{(k+1)}_{i} = (1-\\omega)x^{(k)}_{i} + \\frac{\\omega}{a_{ii}}(b_{i} - \\sum_{j=1}^{i-1} a_{ij}x^{(k+1)}_{j} - \\sum_{j=i+1}^{n} a_{ij}x^{(k)}_{j})\n",
    "$$ for $i=1,...,n$.\n",
    "\n",
    "Man kan også her skrive likningen på matriseform. Deler $A$ opp i $A=L + D + U$ med $L$ og $U$ som strengt nedre og øvre triangulære matriser. Da får man \n",
    "\n",
    "$$\n",
    "x^{(k+1)} = (D + \\omega L)^{-1} (\\omega b - [\\omega U + (\\omega -1)D]x^{k}).\n",
    "$$"
   ]
  },
  {
   "cell_type": "code",
   "execution_count": 14,
   "metadata": {},
   "outputs": [
    {
     "name": "stdout",
     "output_type": "stream",
     "text": [
      "[ 1.99998185 -0.99997856  0.99999744] 7\n"
     ]
    },
    {
     "data": {
      "image/png": "[encoded data removed]",
      "text/plain": [
       "<Figure size 432x288 with 1 Axes>"
      ]
     },
     "metadata": {
      "needs_background": "light"
     },
     "output_type": "display_data"
    }
   ],
   "source": [
    "def SOR(A, b, x0, tol, omega):\n",
    "    n = len(b)\n",
    "    dev = 2*tol\n",
    "    x = x0.copy()\n",
    "    count = 0\n",
    "    while dev > tol:\n",
    "        for i in range(n):\n",
    "            A_conc = np.concatenate((A[i,:i], A[i,i+1:]), axis=None)\n",
    "            x_conc = np.concatenate((x[:i], x[i+1:]), axis=None)\n",
    "            x[i] = (1-omega)*x[i] + omega*(b[i] -  A_conc @ x_conc)/A[i,i]     #update the variables as we go\n",
    "        dev = np.linalg.norm(A @ x - b)\n",
    "        count += 1\n",
    "    return x, count\n",
    "\n",
    "#Solution is x=[2,-1,1]\n",
    "A = np.array([[3.0,1.0,-1.0],[2.0,4.0,1.0],[-1.0,2.0,5.0]])\n",
    "b = np.array([4.0,1.0,1.0])\n",
    "x0 = np.array([0.0,0.0,0.0])\n",
    "tol = 1e-4\n",
    "omega = 1.2\n",
    "\n",
    "x, count = SOR(A, b, x0, tol, omega)\n",
    "print(x, count)\n",
    "\n",
    "omegas = np.linspace(1.0,1.8,50)\n",
    "tolerance = 1e-6\n",
    "iterations = np.zeros(len(omegas))\n",
    "for i in range(len(omegas)):\n",
    "    x1, iterations[i] = SOR(A, b, x0, tolerance, omegas[i])\n",
    "    \n",
    "plt.plot(omegas,iterations)\n",
    "plt.xlabel(r'$\\omega$')\n",
    "plt.ylabel('iterations')\n",
    "plt.show()\n",
    "\n",
    "#Plottet kan tyde på et bunnpunkt ved omega = 1.15 for denne matrisen A."
   ]
  },
  {
   "cell_type": "markdown",
   "metadata": {},
   "source": [
    "#### Sammenligner metodene"
   ]
  },
  {
   "cell_type": "code",
   "execution_count": 15,
   "metadata": {},
   "outputs": [
    {
     "data": {
      "image/png": "[encoded data removed]",
      "text/plain": [
       "<Figure size 432x288 with 1 Axes>"
      ]
     },
     "metadata": {
      "needs_background": "light"
     },
     "output_type": "display_data"
    }
   ],
   "source": [
    "A = np.array([[3.0,1.0,-1.0],[2.0,4.0,1.0],[-1.0,2.0,5.0]])\n",
    "b = np.array([4.0,1.0,1.0])\n",
    "x0 = np.array([0.0,0.0,0.0]) #Solution is x=[2,-1,1]\n",
    "\n",
    "tols = np.linspace(1e-3,1e-9,60)\n",
    "iter_Jac = np.zeros(len(tols))\n",
    "iter_GS = np.zeros(len(tols))\n",
    "iter_SOR = np.zeros(len(tols))\n",
    "omega = 1.15\n",
    "for i in range(len(tols)):\n",
    "    x1,iter_Jac[i] = Jacobi(A,b,x0,tols[i])\n",
    "    x2,iter_GS[i] = Gauss_Seidel(A,b,x0,tols[i])\n",
    "    x3,iter_SOR[i] = SOR(A,b,x0,tols[i],omega)\n",
    "\n",
    "plt.plot(tols,iter_Jac,label='Jacobi')\n",
    "plt.plot(tols,iter_GS,label='Gauss_Seidel')\n",
    "plt.plot(tols,iter_SOR,label='SOR')\n",
    "plt.xscale('log')\n",
    "plt.ylabel('iterations')\n",
    "plt.xlabel('tolerance')\n",
    "plt.legend()\n",
    "plt.show()"
   ]
  },
  {
   "cell_type": "code",
   "execution_count": null,
   "metadata": {},
   "outputs": [],
   "source": []
  }
 ],
 "metadata": {
  "kernelspec": {
   "display_name": "Python 3",
   "language": "python",
   "name": "python3"
  },
  "language_info": {
   "codemirror_mode": {
    "name": "ipython",
    "version": 3
   },
   "file_extension": ".py",
   "mimetype": "text/x-python",
   "name": "python",
   "nbconvert_exporter": "python",
   "pygments_lexer": "ipython3",
   "version": "3.7.3"
  }
 },
 "nbformat": 4,
 "nbformat_minor": 2
}
