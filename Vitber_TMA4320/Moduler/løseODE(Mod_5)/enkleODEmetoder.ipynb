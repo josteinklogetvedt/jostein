{
 "cells": [
  {
   "cell_type": "markdown",
   "metadata": {},
   "source": [
    "#### Løse ODE\n",
    "Lager flere funksjoner 'solve_ODE' med forskjellig input, men som betyr det samme. Gitt at alle har samme startverdi $t_0$, kan man velge å ta inn 2 av disse tre parameterne; $N$, $h$ og $t_N$. Alt i alt betyr det det samme fordi parameterne er koblet sammen ved denne formelen\n",
    "\n",
    "$$\n",
    " h = \\frac{t_N - t_0}{N}.\n",
    "$$\n",
    "\n",
    "Man kan også velge å kun ta inn $h$ også stoppe ved bestemt stoppkriteriet. \n",
    "\n",
    "Ved en generalisering av funksjonene tar jeg inn 'method' som er f.eks. ett Eulersteg eller RK4."
   ]
  },
  {
   "cell_type": "code",
   "execution_count": 22,
   "metadata": {},
   "outputs": [
    {
     "name": "stdout",
     "output_type": "stream",
     "text": [
      "[0.  0.1 0.2 0.3 0.4 0.5 0.6 0.7 0.8 0.9 1. ] [1.         1.09965    1.19705668 1.28957032 1.37406271 1.44689032]\n",
      "[0.  0.1 0.2 0.3 0.4 0.5 0.6 0.7 0.8 0.9 1. ] [1.         1.09965    1.19705668 1.28957032 1.37406271 1.44689032]\n",
      "[0.  0.1 0.2 0.3 0.4 0.5 0.6 0.7 0.8 0.9 1. ] [1.         1.09965    1.19705668 1.28957032 1.37406271 1.44689032]\n",
      "[0.  0.1 0.2 0.3 0.4 0.5 0.6 0.7 0.8] [1.         1.09965    1.19705668 1.28957032 1.37406271 1.44689032]\n"
     ]
    }
   ],
   "source": [
    "import numpy as np\n",
    "import matplotlib.pyplot as plt\n",
    "\n",
    "def step_Euler(t, y, h, f):  \n",
    "    return y + h*f(t, y) \n",
    "\n",
    "def step_RK4(t, y, h, f):  \n",
    "    k1 = f(t, y)\n",
    "    k2 = f(t + h/2, y + (h / 2) * k1)  \n",
    "    k3 = f(t + h/2, y + (h / 2) * k2) \n",
    "    k4 = f(t + h, y + h * k3) \n",
    "    return y + (h / 6) * (k1 + (2 * k2) + (2 * k3) + k4)\n",
    "\n",
    "def solve_ODE_nsteps(t0, y0, h, f, method, nsteps):\n",
    "    T = np.zeros(nsteps+1)\n",
    "    Y = np.zeros((nsteps+1,len(y0)))\n",
    "    T[0] = t0\n",
    "    Y[0] = y0\n",
    "    for i in range(nsteps):\n",
    "        Y[i+1] = method(T[i], Y[i], h, f)\n",
    "        T[i+1] = T[i] + h\n",
    "    return T, Y\n",
    "\n",
    "def solve_ODE_interval_h(t0, y0, tend, h, f, method):\n",
    "    N = int((tend-t0)/h)\n",
    "    T = np.linspace(t0,tend,N+1)\n",
    "    Y = np.zeros((N+1,len(y0)))   \n",
    "    Y[0] = y0\n",
    "    for i in range(N):\n",
    "        Y[i+1] = method(T[i], Y[i], h, f)\n",
    "    return T, Y\n",
    "\n",
    "\n",
    "def solve_ODE_interval_N(t0, y0, tend, N, f, method):\n",
    "    h = (tend-t0)/N\n",
    "    T = np.linspace(t0, tend, N+1)\n",
    "    Y = np.zeros((N+1,len(y0)))\n",
    "    Y[0] = y0\n",
    "    for i in range(N):\n",
    "        Y[i+1] = method(T[i], Y[i], h, f)  \n",
    "    return T, Y\n",
    "\n",
    "def solve_ODE_stopWhen(t0, y0, h, f, method): #Tar kun inn h og t0, stopper ved et bestemt kriteriet \n",
    "    T = np.zeros(1)\n",
    "    Y = np.zeros((1,len(y0)))\n",
    "    T[0] = t0\n",
    "    Y[0] = y0\n",
    "    i=0\n",
    "    while True:\n",
    "        val = method(T[i], Y[i], h, f)  \n",
    "        Y = np.vstack((Y, y0))         \n",
    "        T = np.append(T, t0)     \n",
    "        Y[i+1] = val\n",
    "        T[i+1] = T[i] + h \n",
    "        i += 1\n",
    "        if val[0] > 1.55:  #  <--- insert stoppkriteriet her  \n",
    "            break\n",
    "    return T, Y\n",
    "\n",
    "\n",
    "def f(t,y):\n",
    "    return np.array([y[0]+y[1],-y[0]+y[1]])\n",
    "\n",
    "y0 = np.array([1,0])\n",
    "N = 10\n",
    "t0 = 0.0\n",
    "tend = 1\n",
    "h = 0.1\n",
    "T, Y = solve_ODE_nsteps(t0, y0, h, f, step_RK4, N)\n",
    "print(T, Y[:6,0])\n",
    "T, Y = solve_ODE_interval_h(t0, y0, tend, h, f, step_RK4)\n",
    "print(T, Y[:6,0])\n",
    "T, Y = solve_ODE_interval_N(t0, y0, tend, N, f, step_RK4)\n",
    "print(T, Y[:6,0])\n",
    "T, Y = solve_ODE_stopWhen(t0, y0, h, f, step_RK4)\n",
    "print(T,Y[:6,0])"
   ]
  },
  {
   "cell_type": "code",
   "execution_count": null,
   "metadata": {},
   "outputs": [],
   "source": []
  }
 ],
 "metadata": {
  "kernelspec": {
   "display_name": "Python 3",
   "language": "python",
   "name": "python3"
  },
  "language_info": {
   "codemirror_mode": {
    "name": "ipython",
    "version": 3
   },
   "file_extension": ".py",
   "mimetype": "text/x-python",
   "name": "python",
   "nbconvert_exporter": "python",
   "pygments_lexer": "ipython3",
   "version": "3.7.3"
  }
 },
 "nbformat": 4,
 "nbformat_minor": 2
}
